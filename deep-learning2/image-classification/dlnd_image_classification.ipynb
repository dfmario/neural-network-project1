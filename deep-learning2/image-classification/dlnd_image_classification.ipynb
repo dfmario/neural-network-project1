{
 "cells": [
  {
   "cell_type": "markdown",
   "metadata": {
    "collapsed": true,
    "deletable": true,
    "editable": true
   },
   "source": [
    "# Image Classification\n",
    "In this project, you'll classify images from the [CIFAR-10 dataset](https://www.cs.toronto.edu/~kriz/cifar.html).  The dataset consists of airplanes, dogs, cats, and other objects. You'll preprocess the images, then train a convolutional neural network on all the samples. The images need to be normalized and the labels need to be one-hot encoded.  You'll get to apply what you learned and build a convolutional, max pooling, dropout, and fully connected layers.  At the end, you'll get to see your neural network's predictions on the sample images.\n",
    "## Get the Data\n",
    "Run the following cell to download the [CIFAR-10 dataset for python](https://www.cs.toronto.edu/~kriz/cifar-10-python.tar.gz)."
   ]
  },
  {
   "cell_type": "code",
   "execution_count": 1,
   "metadata": {
    "collapsed": false,
    "deletable": true,
    "editable": true
   },
   "outputs": [
    {
     "name": "stdout",
     "output_type": "stream",
     "text": [
      "All files found!\n"
     ]
    }
   ],
   "source": [
    "\"\"\"\n",
    "DON'T MODIFY ANYTHING IN THIS CELL THAT IS BELOW THIS LINE\n",
    "\"\"\"\n",
    "from urllib.request import urlretrieve\n",
    "from os.path import isfile, isdir\n",
    "from tqdm import tqdm\n",
    "import problem_unittests as tests\n",
    "import tarfile\n",
    "\n",
    "cifar10_dataset_folder_path = 'cifar-10-batches-py'\n",
    "\n",
    "class DLProgress(tqdm):\n",
    "    last_block = 0\n",
    "\n",
    "    def hook(self, block_num=1, block_size=1, total_size=None):\n",
    "        self.total = total_size\n",
    "        self.update((block_num - self.last_block) * block_size)\n",
    "        self.last_block = block_num\n",
    "\n",
    "if not isfile('cifar-10-python.tar.gz'):\n",
    "    with DLProgress(unit='B', unit_scale=True, miniters=1, desc='CIFAR-10 Dataset') as pbar:\n",
    "        urlretrieve(\n",
    "            'https://www.cs.toronto.edu/~kriz/cifar-10-python.tar.gz',\n",
    "            'cifar-10-python.tar.gz',\n",
    "            pbar.hook)\n",
    "\n",
    "if not isdir(cifar10_dataset_folder_path):\n",
    "    with tarfile.open('cifar-10-python.tar.gz') as tar:\n",
    "        tar.extractall()\n",
    "        tar.close()\n",
    "\n",
    "\n",
    "tests.test_folder_path(cifar10_dataset_folder_path)"
   ]
  },
  {
   "cell_type": "markdown",
   "metadata": {
    "deletable": true,
    "editable": true
   },
   "source": [
    "## Explore the Data\n",
    "The dataset is broken into batches to prevent your machine from running out of memory.  The CIFAR-10 dataset consists of 5 batches, named `data_batch_1`, `data_batch_2`, etc.. Each batch contains the labels and images that are one of the following:\n",
    "* airplane\n",
    "* automobile\n",
    "* bird\n",
    "* cat\n",
    "* deer\n",
    "* dog\n",
    "* frog\n",
    "* horse\n",
    "* ship\n",
    "* truck\n",
    "\n",
    "Understanding a dataset is part of making predictions on the data.  Play around with the code cell below by changing the `batch_id` and `sample_id`. The `batch_id` is the id for a batch (1-5). The `sample_id` is the id for a image and label pair in the batch.\n",
    "\n",
    "Ask yourself \"What are all possible labels?\", \"What is the range of values for the image data?\", \"Are the labels in order or random?\".  Answers to questions like these will help you preprocess the data and end up with better predictions."
   ]
  },
  {
   "cell_type": "code",
   "execution_count": 2,
   "metadata": {
    "collapsed": false,
    "deletable": true,
    "editable": true
   },
   "outputs": [
    {
     "name": "stdout",
     "output_type": "stream",
     "text": [
      "\n",
      "Stats of batch 1:\n",
      "Samples: 10000\n",
      "Label Counts: {0: 1005, 1: 974, 2: 1032, 3: 1016, 4: 999, 5: 937, 6: 1030, 7: 1001, 8: 1025, 9: 981}\n",
      "First 20 Labels: [6, 9, 9, 4, 1, 1, 2, 7, 8, 3, 4, 7, 7, 2, 9, 9, 9, 3, 2, 6]\n",
      "\n",
      "Example of Image 5:\n",
      "Image - Min Value: 0 Max Value: 252\n",
      "Image - Shape: (32, 32, 3)\n",
      "Label - Label Id: 1 Name: automobile\n"
     ]
    },
    {
     "data": {
      "image/png": "[encoded data removed]",
      "text/plain": [
       "<matplotlib.figure.Figure at 0x7f22fc9e04e0>"
      ]
     },
     "metadata": {
      "image/png": {
       "height": 250,
       "width": 253
      }
     },
     "output_type": "display_data"
    }
   ],
   "source": [
    "%matplotlib inline\n",
    "%config InlineBackend.figure_format = 'retina'\n",
    "\n",
    "import helper\n",
    "import numpy as np\n",
    "\n",
    "# Explore the dataset\n",
    "batch_id = 1\n",
    "sample_id = 5\n",
    "helper.display_stats(cifar10_dataset_folder_path, batch_id, sample_id)"
   ]
  },
  {
   "cell_type": "markdown",
   "metadata": {
    "deletable": true,
    "editable": true
   },
   "source": [
    "## Implement Preprocess Functions\n",
    "### Normalize\n",
    "In the cell below, implement the `normalize` function to take in image data, `x`, and return it as a normalized Numpy array. The values should be in the range of 0 to 1, inclusive.  The return object should be the same shape as `x`."
   ]
  },
  {
   "cell_type": "code",
   "execution_count": 3,
   "metadata": {
    "collapsed": false,
    "deletable": true,
    "editable": true
   },
   "outputs": [
    {
     "name": "stdout",
     "output_type": "stream",
     "text": [
      "Tests Passed\n"
     ]
    }
   ],
   "source": [
    "def normalize(x):\n",
    "    \"\"\"\n",
    "    Normalize a list of sample image data in the range of 0 to 1\n",
    "    : x: List of image data.  The image shape is (32, 32, 3)\n",
    "    : return: Numpy array of normalize data\n",
    "    \"\"\"\n",
    "    # TODO: Implement Function\n",
    "    norm_min = 0\n",
    "    norm_max = 1\n",
    "    data_min = 0\n",
    "    data_max = 255\n",
    "    return norm_min + ( ( (x - data_min) * (norm_max - norm_min) ) / (data_max - data_min) )\n",
    "\n",
    "\n",
    "\"\"\"\n",
    "DON'T MODIFY ANYTHING IN THIS CELL THAT IS BELOW THIS LINE\n",
    "\"\"\"\n",
    "tests.test_normalize(normalize)"
   ]
  },
  {
   "cell_type": "markdown",
   "metadata": {
    "deletable": true,
    "editable": true
   },
   "source": [
    "### One-hot encode\n",
    "Just like the previous code cell, you'll be implementing a function for preprocessing.  This time, you'll implement the `one_hot_encode` function. The input, `x`, are a list of labels.  Implement the function to return the list of labels as One-Hot encoded Numpy array.  The possible values for labels are 0 to 9. The one-hot encoding function should return the same encoding for each value between each call to `one_hot_encode`.  Make sure to save the map of encodings outside the function.\n",
    "\n",
    "Hint: Don't reinvent the wheel."
   ]
  },
  {
   "cell_type": "code",
   "execution_count": 4,
   "metadata": {
    "collapsed": false,
    "deletable": true,
    "editable": true
   },
   "outputs": [
    {
     "name": "stdout",
     "output_type": "stream",
     "text": [
      "Tests Passed\n"
     ]
    }
   ],
   "source": [
    "def one_hot_encode(x):\n",
    "    \"\"\"\n",
    "    One hot encode a list of sample labels. Return a one-hot encoded vector for each label.\n",
    "    : x: List of sample Labels\n",
    "    : return: Numpy array of one-hot encoded labels\n",
    "    \"\"\"\n",
    "    # TODO: Implement Function\n",
    "    enc_map = np.zeros(shape=(len(x), 10))\n",
    "    counter = 0\n",
    "    for idx in x:\n",
    "        enc_map[counter][idx] = 1\n",
    "        counter += 1\n",
    "    return enc_map\n",
    "\n",
    "\n",
    "\"\"\"\n",
    "DON'T MODIFY ANYTHING IN THIS CELL THAT IS BELOW THIS LINE\n",
    "\"\"\"\n",
    "tests.test_one_hot_encode(one_hot_encode)"
   ]
  },
  {
   "cell_type": "markdown",
   "metadata": {
    "deletable": true,
    "editable": true
   },
   "source": [
    "### Randomize Data\n",
    "As you saw from exploring the data above, the order of the samples are randomized.  It doesn't hurt to randomize it again, but you don't need to for this dataset."
   ]
  },
  {
   "cell_type": "markdown",
   "metadata": {
    "deletable": true,
    "editable": true
   },
   "source": [
    "## Preprocess all the data and save it\n",
    "Running the code cell below will preprocess all the CIFAR-10 data and save it to file. The code below also uses 10% of the training data for validation."
   ]
  },
  {
   "cell_type": "code",
   "execution_count": 5,
   "metadata": {
    "collapsed": false,
    "deletable": true,
    "editable": true
   },
   "outputs": [],
   "source": [
    "\"\"\"\n",
    "DON'T MODIFY ANYTHING IN THIS CELL\n",
    "\"\"\"\n",
    "# Preprocess Training, Validation, and Testing Data\n",
    "helper.preprocess_and_save_data(cifar10_dataset_folder_path, normalize, one_hot_encode)"
   ]
  },
  {
   "cell_type": "markdown",
   "metadata": {
    "deletable": true,
    "editable": true
   },
   "source": [
    "# Check Point\n",
    "This is your first checkpoint.  If you ever decide to come back to this notebook or have to restart the notebook, you can start from here.  The preprocessed data has been saved to disk."
   ]
  },
  {
   "cell_type": "code",
   "execution_count": 6,
   "metadata": {
    "collapsed": true,
    "deletable": true,
    "editable": true
   },
   "outputs": [],
   "source": [
    "\"\"\"\n",
    "DON'T MODIFY ANYTHING IN THIS CELL\n",
    "\"\"\"\n",
    "import pickle\n",
    "import problem_unittests as tests\n",
    "import helper\n",
    "\n",
    "# Load the Preprocessed Validation data\n",
    "valid_features, valid_labels = pickle.load(open('preprocess_validation.p', mode='rb'))"
   ]
  },
  {
   "cell_type": "markdown",
   "metadata": {
    "deletable": true,
    "editable": true
   },
   "source": [
    "## Build the network\n",
    "For the neural network, you'll build each layer into a function.  Most of the code you've seen has been outside of functions. To test your code more thoroughly, we require that you put each layer in a function.  This allows us to give you better feedback and test for simple mistakes using our unittests before you submit your project.\n",
    "\n",
    ">**Note:** If you're finding it hard to dedicate enough time for this course each week, we've provided a small shortcut to this part of the project. In the next couple of problems, you'll have the option to use classes from the [TensorFlow Layers](https://www.tensorflow.org/api_docs/python/tf/layers) or [TensorFlow Layers (contrib)](https://www.tensorflow.org/api_guides/python/contrib.layers) packages to build each layer, except the layers you build in the \"Convolutional and Max Pooling Layer\" section.  TF Layers is similar to Keras's and TFLearn's abstraction to layers, so it's easy to pickup.\n",
    "\n",
    ">However, if you would like to get the most out of this course, try to solve all the problems _without_ using anything from the TF Layers packages. You **can** still use classes from other packages that happen to have the same name as ones you find in TF Layers! For example, instead of using the TF Layers version of the `conv2d` class, [tf.layers.conv2d](https://www.tensorflow.org/api_docs/python/tf/layers/conv2d), you would want to use the TF Neural Network version of `conv2d`, [tf.nn.conv2d](https://www.tensorflow.org/api_docs/python/tf/nn/conv2d). \n",
    "\n",
    "Let's begin!\n",
    "\n",
    "### Input\n",
    "The neural network needs to read the image data, one-hot encoded labels, and dropout keep probability. Implement the following functions\n",
    "* Implement `neural_net_image_input`\n",
    " * Return a [TF Placeholder](https://www.tensorflow.org/api_docs/python/tf/placeholder)\n",
    " * Set the shape using `image_shape` with batch size set to `None`.\n",
    " * Name the TensorFlow placeholder \"x\" using the TensorFlow `name` parameter in the [TF Placeholder](https://www.tensorflow.org/api_docs/python/tf/placeholder).\n",
    "* Implement `neural_net_label_input`\n",
    " * Return a [TF Placeholder](https://www.tensorflow.org/api_docs/python/tf/placeholder)\n",
    " * Set the shape using `n_classes` with batch size set to `None`.\n",
    " * Name the TensorFlow placeholder \"y\" using the TensorFlow `name` parameter in the [TF Placeholder](https://www.tensorflow.org/api_docs/python/tf/placeholder).\n",
    "* Implement `neural_net_keep_prob_input`\n",
    " * Return a [TF Placeholder](https://www.tensorflow.org/api_docs/python/tf/placeholder) for dropout keep probability.\n",
    " * Name the TensorFlow placeholder \"keep_prob\" using the TensorFlow `name` parameter in the [TF Placeholder](https://www.tensorflow.org/api_docs/python/tf/placeholder).\n",
    "\n",
    "These names will be used at the end of the project to load your saved model.\n",
    "\n",
    "Note: `None` for shapes in TensorFlow allow for a dynamic size."
   ]
  },
  {
   "cell_type": "code",
   "execution_count": 7,
   "metadata": {
    "collapsed": false,
    "deletable": true,
    "editable": true
   },
   "outputs": [
    {
     "name": "stdout",
     "output_type": "stream",
     "text": [
      "Image Input Tests Passed.\n",
      "Label Input Tests Passed.\n",
      "Keep Prob Tests Passed.\n"
     ]
    }
   ],
   "source": [
    "import tensorflow as tf\n",
    "\n",
    "def neural_net_image_input(image_shape):\n",
    "    \"\"\"\n",
    "    Return a Tensor for a batch of image input\n",
    "    : image_shape: Shape of the images\n",
    "    : return: Tensor for image input.\n",
    "    \"\"\"\n",
    "    # TODO: Implement Function\n",
    "    shape = []\n",
    "    shape.append(None)\n",
    "    for value in image_shape:\n",
    "        shape.append(value)\n",
    "    return tf.placeholder(tf.float32, shape=shape, name='x')\n",
    "\n",
    "\n",
    "def neural_net_label_input(n_classes):\n",
    "    \"\"\"\n",
    "    Return a Tensor for a batch of label input\n",
    "    : n_classes: Number of classes\n",
    "    : return: Tensor for label input.\n",
    "    \"\"\"\n",
    "    # TODO: Implement Function\n",
    "    return tf.placeholder(tf.float32, shape=(None, n_classes), name='y')\n",
    "\n",
    "\n",
    "def neural_net_keep_prob_input():\n",
    "    \"\"\"\n",
    "    Return a Tensor for keep probability\n",
    "    : return: Tensor for keep probability.\n",
    "    \"\"\"\n",
    "    # TODO: Implement Function\n",
    "    return tf.placeholder(tf.float32, name='keep_prob')\n",
    "\n",
    "\n",
    "\"\"\"\n",
    "DON'T MODIFY ANYTHING IN THIS CELL THAT IS BELOW THIS LINE\n",
    "\"\"\"\n",
    "tf.reset_default_graph()\n",
    "tests.test_nn_image_inputs(neural_net_image_input)\n",
    "tests.test_nn_label_inputs(neural_net_label_input)\n",
    "tests.test_nn_keep_prob_inputs(neural_net_keep_prob_input)"
   ]
  },
  {
   "cell_type": "markdown",
   "metadata": {
    "deletable": true,
    "editable": true
   },
   "source": [
    "### Convolution and Max Pooling Layer\n",
    "Convolution layers have a lot of success with images. For this code cell, you should implement the function `conv2d_maxpool` to apply convolution then max pooling:\n",
    "* Create the weight and bias using `conv_ksize`, `conv_num_outputs` and the shape of `x_tensor`.\n",
    "* Apply a convolution to `x_tensor` using weight and `conv_strides`.\n",
    " * We recommend you use same padding, but you're welcome to use any padding.\n",
    "* Add bias\n",
    "* Add a nonlinear activation to the convolution.\n",
    "* Apply Max Pooling using `pool_ksize` and `pool_strides`.\n",
    " * We recommend you use same padding, but you're welcome to use any padding.\n",
    "\n",
    "**Note:** You **can't** use [TensorFlow Layers](https://www.tensorflow.org/api_docs/python/tf/layers) or [TensorFlow Layers (contrib)](https://www.tensorflow.org/api_guides/python/contrib.layers) for **this** layer, but you can still use TensorFlow's [Neural Network](https://www.tensorflow.org/api_docs/python/tf/nn) package. You may still use the shortcut option for all the **other** layers."
   ]
  },
  {
   "cell_type": "code",
   "execution_count": 16,
   "metadata": {
    "collapsed": false,
    "deletable": true,
    "editable": true
   },
   "outputs": [
    {
     "name": "stdout",
     "output_type": "stream",
     "text": [
      "Tests Passed\n"
     ]
    }
   ],
   "source": [
    "def conv2d_maxpool(x_tensor, conv_num_outputs, conv_ksize, conv_strides, pool_ksize, pool_strides):\n",
    "    \"\"\"\n",
    "    Apply convolution then max pooling to x_tensor\n",
    "    :param x_tensor: TensorFlow Tensor\n",
    "    :param conv_num_outputs: Number of outputs for the convolutional layer\n",
    "    :param conv_ksize: kernal size 2-D Tuple for the convolutional layer\n",
    "    :param conv_strides: Stride 2-D Tuple for convolution\n",
    "    :param pool_ksize: kernal size 2-D Tuple for pool\n",
    "    :param pool_strides: Stride 2-D Tuple for pool\n",
    "    : return: A tensor that represents convolution and max pooling of x_tensor\n",
    "    \"\"\"\n",
    "    # TODO: Implement Function\n",
    "    weight = tf.Variable(tf.random_normal([conv_ksize[0], conv_ksize[1],\\\n",
    "                                              x_tensor.get_shape().as_list()[3], conv_num_outputs], stddev=0.1, mean=0.01))\n",
    "    bias = tf.Variable(tf.zeros([conv_num_outputs]))\n",
    "    x_tensor = tf.nn.conv2d(x_tensor, weight, strides=[1, conv_strides[0], conv_strides[1], 1], padding='SAME')\n",
    "    x_tensor = tf.nn.bias_add(x_tensor, bias)\n",
    "    x_tensor = tf.nn.relu(x_tensor)\n",
    "    x_tensor = tf.nn.max_pool(x_tensor, ksize=[1, pool_ksize[0], pool_ksize[1], 1],\\\n",
    "                              strides=[1, pool_strides[0], pool_strides[1], 1], padding='SAME')\n",
    "    return x_tensor\n",
    "\n",
    "\n",
    "\"\"\"\n",
    "DON'T MODIFY ANYTHING IN THIS CELL THAT IS BELOW THIS LINE\n",
    "\"\"\"\n",
    "tests.test_con_pool(conv2d_maxpool)"
   ]
  },
  {
   "cell_type": "markdown",
   "metadata": {
    "deletable": true,
    "editable": true
   },
   "source": [
    "### Flatten Layer\n",
    "Implement the `flatten` function to change the dimension of `x_tensor` from a 4-D tensor to a 2-D tensor.  The output should be the shape (*Batch Size*, *Flattened Image Size*). Shortcut option: you can use classes from the [TensorFlow Layers](https://www.tensorflow.org/api_docs/python/tf/layers) or [TensorFlow Layers (contrib)](https://www.tensorflow.org/api_guides/python/contrib.layers) packages for this layer. For more of a challenge, only use other TensorFlow packages."
   ]
  },
  {
   "cell_type": "code",
   "execution_count": 9,
   "metadata": {
    "collapsed": false,
    "deletable": true,
    "editable": true
   },
   "outputs": [
    {
     "name": "stdout",
     "output_type": "stream",
     "text": [
      "Tests Passed\n"
     ]
    }
   ],
   "source": [
    "def flatten(x_tensor):\n",
    "    \"\"\"\n",
    "    Flatten x_tensor to (Batch Size, Flattened Image Size)\n",
    "    : x_tensor: A tensor of size (Batch Size, ...), where ... are the image dimensions.\n",
    "    : return: A tensor of size (Batch Size, Flattened Image Size).\n",
    "    \"\"\"\n",
    "    # TODO: Implement Function\n",
    "    shape = x_tensor.get_shape()\n",
    "    flat_size = np.prod([x for x in shape[1:]])\n",
    "    new_shape = [-1, flat_size.value]\n",
    "    return tf.reshape(x_tensor, new_shape)\n",
    "\n",
    "\n",
    "\"\"\"\n",
    "DON'T MODIFY ANYTHING IN THIS CELL THAT IS BELOW THIS LINE\n",
    "\"\"\"\n",
    "tests.test_flatten(flatten)"
   ]
  },
  {
   "cell_type": "markdown",
   "metadata": {
    "deletable": true,
    "editable": true
   },
   "source": [
    "### Fully-Connected Layer\n",
    "Implement the `fully_conn` function to apply a fully connected layer to `x_tensor` with the shape (*Batch Size*, *num_outputs*). Shortcut option: you can use classes from the [TensorFlow Layers](https://www.tensorflow.org/api_docs/python/tf/layers) or [TensorFlow Layers (contrib)](https://www.tensorflow.org/api_guides/python/contrib.layers) packages for this layer. For more of a challenge, only use other TensorFlow packages."
   ]
  },
  {
   "cell_type": "code",
   "execution_count": 17,
   "metadata": {
    "collapsed": false,
    "deletable": true,
    "editable": true
   },
   "outputs": [
    {
     "name": "stdout",
     "output_type": "stream",
     "text": [
      "Tests Passed\n"
     ]
    }
   ],
   "source": [
    "def fully_conn(x_tensor, num_outputs):\n",
    "    \"\"\"\n",
    "    Apply a fully connected layer to x_tensor using weight and bias\n",
    "    : x_tensor: A 2-D tensor where the first dimension is batch size.\n",
    "    : num_outputs: The number of output that the new tensor should be.\n",
    "    : return: A 2-D tensor where the second dimension is num_outputs.\n",
    "    \"\"\"\n",
    "    # TODO: Implement Function\n",
    "    weight = tf.Variable(tf.random_normal([x_tensor.get_shape().as_list()[1], num_outputs], stddev=0.1, mean=0.01))\n",
    "    bias = tf.Variable(tf.zeros([num_outputs]))\n",
    "    #x_tensor = tf.reshape(x_tensor, [-1, weight.get_shape().as_list()[1]])\n",
    "    x_tensor = tf.add(tf.matmul(x_tensor, weight), bias)\n",
    "    x_tensor = tf.nn.relu(x_tensor)\n",
    "    return x_tensor\n",
    "\n",
    "\n",
    "\"\"\"\n",
    "DON'T MODIFY ANYTHING IN THIS CELL THAT IS BELOW THIS LINE\n",
    "\"\"\"\n",
    "tests.test_fully_conn(fully_conn)"
   ]
  },
  {
   "cell_type": "markdown",
   "metadata": {
    "deletable": true,
    "editable": true
   },
   "source": [
    "### Output Layer\n",
    "Implement the `output` function to apply a fully connected layer to `x_tensor` with the shape (*Batch Size*, *num_outputs*). Shortcut option: you can use classes from the [TensorFlow Layers](https://www.tensorflow.org/api_docs/python/tf/layers) or [TensorFlow Layers (contrib)](https://www.tensorflow.org/api_guides/python/contrib.layers) packages for this layer. For more of a challenge, only use other TensorFlow packages.\n",
    "\n",
    "**Note:** Activation, softmax, or cross entropy should **not** be applied to this."
   ]
  },
  {
   "cell_type": "code",
   "execution_count": 18,
   "metadata": {
    "collapsed": false,
    "deletable": true,
    "editable": true
   },
   "outputs": [
    {
     "name": "stdout",
     "output_type": "stream",
     "text": [
      "Tests Passed\n"
     ]
    }
   ],
   "source": [
    "def output(x_tensor, num_outputs):\n",
    "    \"\"\"\n",
    "    Apply a output layer to x_tensor using weight and bias\n",
    "    : x_tensor: A 2-D tensor where the first dimension is batch size.\n",
    "    : num_outputs: The number of output that the new tensor should be.\n",
    "    : return: A 2-D tensor where the second dimension is num_outputs.\n",
    "    \"\"\"\n",
    "    # TODO: Implement Function\n",
    "    weight = tf.Variable(tf.random_normal([x_tensor.get_shape().as_list()[1], num_outputs], stddev=0.1, mean=0.01))\n",
    "    bias = tf.Variable(tf.zeros([num_outputs]))\n",
    "    return tf.add(tf.matmul(x_tensor, weight), bias)\n",
    "\n",
    "\n",
    "\"\"\"\n",
    "DON'T MODIFY ANYTHING IN THIS CELL THAT IS BELOW THIS LINE\n",
    "\"\"\"\n",
    "tests.test_output(output)"
   ]
  },
  {
   "cell_type": "markdown",
   "metadata": {
    "deletable": true,
    "editable": true
   },
   "source": [
    "### Create Convolutional Model\n",
    "Implement the function `conv_net` to create a convolutional neural network model. The function takes in a batch of images, `x`, and outputs logits.  Use the layers you created above to create this model:\n",
    "\n",
    "* Apply 1, 2, or 3 Convolution and Max Pool layers\n",
    "* Apply a Flatten Layer\n",
    "* Apply 1, 2, or 3 Fully Connected Layers\n",
    "* Apply an Output Layer\n",
    "* Return the output\n",
    "* Apply [TensorFlow's Dropout](https://www.tensorflow.org/api_docs/python/tf/nn/dropout) to one or more layers in the model using `keep_prob`. "
   ]
  },
  {
   "cell_type": "code",
   "execution_count": 19,
   "metadata": {
    "collapsed": false,
    "deletable": true,
    "editable": true
   },
   "outputs": [
    {
     "name": "stdout",
     "output_type": "stream",
     "text": [
      "Neural Network Built!\n"
     ]
    }
   ],
   "source": [
    "def conv_net(x, keep_prob):\n",
    "    \"\"\"\n",
    "    Create a convolutional neural network model\n",
    "    : x: Placeholder tensor that holds image data.\n",
    "    : keep_prob: Placeholder tensor that hold dropout keep probability.\n",
    "    : return: Tensor that represents logits\n",
    "    \"\"\"\n",
    "    # TODO: Apply 1, 2, or 3 Convolution and Max Pool layers\n",
    "    #    Play around with different number of outputs, kernel size and stride\n",
    "    # Function Definition from Above:\n",
    "    #    conv2d_maxpool(x_tensor, conv_num_outputs, conv_ksize, conv_strides, pool_ksize, pool_strides)\n",
    "    x = conv2d_maxpool(x, 64, [5,5], [2,2], [5,5], [2,2])\n",
    "    x = conv2d_maxpool(x, 128, [5,5], [2,2], [5,5], [2,2])\n",
    "    \n",
    "\n",
    "    # TODO: Apply a Flatten Layer\n",
    "    # Function Definition from Above:\n",
    "    #   flatten(x_tensor)\n",
    "    x = flatten(x)\n",
    "    \n",
    "\n",
    "    # TODO: Apply 1, 2, or 3 Fully Connected Layers\n",
    "    #    Play around with different number of outputs\n",
    "    # Function Definition from Above:\n",
    "    #   fully_conn(x_tensor, num_outputs)\n",
    "    x = fully_conn(x, 500)\n",
    "    x = tf.nn.dropout(x, keep_prob)\n",
    "    \n",
    "    \n",
    "    \n",
    "    # TODO: Apply an Output Layer\n",
    "    #    Set this to the number of classes\n",
    "    # Function Definition from Above:\n",
    "    #   output(x_tensor, num_outputs)\n",
    "    x = output(x, 10)\n",
    "    \n",
    "    # TODO: return output\n",
    "    return x\n",
    "\n",
    "\n",
    "\"\"\"\n",
    "DON'T MODIFY ANYTHING IN THIS CELL THAT IS BELOW THIS LINE\n",
    "\"\"\"\n",
    "\n",
    "##############################\n",
    "## Build the Neural Network ##\n",
    "##############################\n",
    "\n",
    "# Remove previous weights, bias, inputs, etc..\n",
    "tf.reset_default_graph()\n",
    "\n",
    "# Inputs\n",
    "x = neural_net_image_input((32, 32, 3))\n",
    "y = neural_net_label_input(10)\n",
    "keep_prob = neural_net_keep_prob_input()\n",
    "\n",
    "# Model\n",
    "logits = conv_net(x, keep_prob)\n",
    "\n",
    "# Name logits Tensor, so that is can be loaded from disk after training\n",
    "logits = tf.identity(logits, name='logits')\n",
    "\n",
    "# Loss and Optimizer\n",
    "cost = tf.reduce_mean(tf.nn.softmax_cross_entropy_with_logits(logits=logits, labels=y))\n",
    "optimizer = tf.train.AdamOptimizer().minimize(cost)\n",
    "\n",
    "# Accuracy\n",
    "correct_pred = tf.equal(tf.argmax(logits, 1), tf.argmax(y, 1))\n",
    "accuracy = tf.reduce_mean(tf.cast(correct_pred, tf.float32), name='accuracy')\n",
    "\n",
    "tests.test_conv_net(conv_net)"
   ]
  },
  {
   "cell_type": "markdown",
   "metadata": {
    "deletable": true,
    "editable": true
   },
   "source": [
    "## Train the Neural Network\n",
    "### Single Optimization\n",
    "Implement the function `train_neural_network` to do a single optimization.  The optimization should use `optimizer` to optimize in `session` with a `feed_dict` of the following:\n",
    "* `x` for image input\n",
    "* `y` for labels\n",
    "* `keep_prob` for keep probability for dropout\n",
    "\n",
    "This function will be called for each batch, so `tf.global_variables_initializer()` has already been called.\n",
    "\n",
    "Note: Nothing needs to be returned. This function is only optimizing the neural network."
   ]
  },
  {
   "cell_type": "code",
   "execution_count": 20,
   "metadata": {
    "collapsed": false,
    "deletable": true,
    "editable": true
   },
   "outputs": [
    {
     "name": "stdout",
     "output_type": "stream",
     "text": [
      "Tests Passed\n"
     ]
    }
   ],
   "source": [
    "def train_neural_network(session, optimizer, keep_probability, feature_batch, label_batch):\n",
    "    \"\"\"\n",
    "    Optimize the session on a batch of images and labels\n",
    "    : session: Current TensorFlow session\n",
    "    : optimizer: TensorFlow optimizer function\n",
    "    : keep_probability: keep probability\n",
    "    : feature_batch: Batch of Numpy image data\n",
    "    : label_batch: Batch of Numpy label data\n",
    "    \"\"\"\n",
    "    # TODO: Implement Function\n",
    "    session.run(optimizer, feed_dict={\n",
    "        x: feature_batch,\n",
    "        y: label_batch,\n",
    "        keep_prob: keep_probability\n",
    "    })\n",
    "\n",
    "\n",
    "\"\"\"\n",
    "DON'T MODIFY ANYTHING IN THIS CELL THAT IS BELOW THIS LINE\n",
    "\"\"\"\n",
    "tests.test_train_nn(train_neural_network)"
   ]
  },
  {
   "cell_type": "markdown",
   "metadata": {
    "deletable": true,
    "editable": true
   },
   "source": [
    "### Show Stats\n",
    "Implement the function `print_stats` to print loss and validation accuracy.  Use the global variables `valid_features` and `valid_labels` to calculate validation accuracy.  Use a keep probability of `1.0` to calculate the loss and validation accuracy."
   ]
  },
  {
   "cell_type": "code",
   "execution_count": 21,
   "metadata": {
    "collapsed": false,
    "deletable": true,
    "editable": true
   },
   "outputs": [],
   "source": [
    "def print_stats(session, feature_batch, label_batch, cost, accuracy):\n",
    "    \"\"\"\n",
    "    Print information about loss and validation accuracy\n",
    "    : session: Current TensorFlow session\n",
    "    : feature_batch: Batch of Numpy image data\n",
    "    : label_batch: Batch of Numpy label data\n",
    "    : cost: TensorFlow cost function\n",
    "    : accuracy: TensorFlow accuracy function\n",
    "    \"\"\"\n",
    "    # TODO: Implement Function\n",
    "    loss = session.run(cost, feed_dict={\n",
    "        x: feature_batch,\n",
    "        y: label_batch,\n",
    "        keep_prob: 1.0\n",
    "    })\n",
    "    acc = session.run(accuracy, feed_dict={\n",
    "        x: valid_features,\n",
    "        y: valid_labels,\n",
    "        keep_prob: 1.0\n",
    "    })\n",
    "    print('Loss: {:>10.4f} Validation Accuracy: {:.6f}'.format(loss, acc))"
   ]
  },
  {
   "cell_type": "markdown",
   "metadata": {
    "deletable": true,
    "editable": true
   },
   "source": [
    "### Hyperparameters\n",
    "Tune the following parameters:\n",
    "* Set `epochs` to the number of iterations until the network stops learning or start overfitting\n",
    "* Set `batch_size` to the highest number that your machine has memory for.  Most people set them to common sizes of memory:\n",
    " * 64\n",
    " * 128\n",
    " * 256\n",
    " * ...\n",
    "* Set `keep_probability` to the probability of keeping a node using dropout"
   ]
  },
  {
   "cell_type": "code",
   "execution_count": 28,
   "metadata": {
    "collapsed": true,
    "deletable": true,
    "editable": true
   },
   "outputs": [],
   "source": [
    "# TODO: Tune Parameters\n",
    "epochs = 50\n",
    "batch_size = 2000\n",
    "keep_probability = 0.75"
   ]
  },
  {
   "cell_type": "markdown",
   "metadata": {
    "deletable": true,
    "editable": true
   },
   "source": [
    "### Train on a Single CIFAR-10 Batch\n",
    "Instead of training the neural network on all the CIFAR-10 batches of data, let's use a single batch. This should save time while you iterate on the model to get a better accuracy.  Once the final validation accuracy is 50% or greater, run the model on all the data in the next section."
   ]
  },
  {
   "cell_type": "code",
   "execution_count": 25,
   "metadata": {
    "collapsed": false,
    "deletable": true,
    "editable": true
   },
   "outputs": [
    {
     "name": "stdout",
     "output_type": "stream",
     "text": [
      "Checking the Training on a Single Batch...\n",
      "Epoch  1, CIFAR-10 Batch 1:  Loss:    77.0868 Validation Accuracy: 0.102000\n",
      "Epoch  2, CIFAR-10 Batch 1:  Loss:    23.9667 Validation Accuracy: 0.094000\n",
      "Epoch  3, CIFAR-10 Batch 1:  Loss:    13.6956 Validation Accuracy: 0.098600\n",
      "Epoch  4, CIFAR-10 Batch 1:  Loss:     4.7760 Validation Accuracy: 0.084400\n",
      "Epoch  5, CIFAR-10 Batch 1:  Loss:     3.8866 Validation Accuracy: 0.101800\n",
      "Epoch  6, CIFAR-10 Batch 1:  Loss:     3.3608 Validation Accuracy: 0.127200\n",
      "Epoch  7, CIFAR-10 Batch 1:  Loss:     2.9079 Validation Accuracy: 0.115800\n",
      "Epoch  8, CIFAR-10 Batch 1:  Loss:     2.5987 Validation Accuracy: 0.117000\n",
      "Epoch  9, CIFAR-10 Batch 1:  Loss:     2.3591 Validation Accuracy: 0.124400\n",
      "Epoch 10, CIFAR-10 Batch 1:  Loss:     2.2960 Validation Accuracy: 0.141800\n",
      "Epoch 11, CIFAR-10 Batch 1:  Loss:     2.2842 Validation Accuracy: 0.143200\n",
      "Epoch 12, CIFAR-10 Batch 1:  Loss:     2.2571 Validation Accuracy: 0.153400\n",
      "Epoch 13, CIFAR-10 Batch 1:  Loss:     2.2234 Validation Accuracy: 0.178400\n",
      "Epoch 14, CIFAR-10 Batch 1:  Loss:     2.1998 Validation Accuracy: 0.198200\n",
      "Epoch 15, CIFAR-10 Batch 1:  Loss:     2.1854 Validation Accuracy: 0.210000\n",
      "Epoch 16, CIFAR-10 Batch 1:  Loss:     2.1729 Validation Accuracy: 0.213600\n",
      "Epoch 17, CIFAR-10 Batch 1:  Loss:     2.1599 Validation Accuracy: 0.217600\n",
      "Epoch 18, CIFAR-10 Batch 1:  Loss:     2.1470 Validation Accuracy: 0.224200\n",
      "Epoch 19, CIFAR-10 Batch 1:  Loss:     2.1343 Validation Accuracy: 0.230000\n",
      "Epoch 20, CIFAR-10 Batch 1:  Loss:     2.1217 Validation Accuracy: 0.237400\n",
      "Epoch 21, CIFAR-10 Batch 1:  Loss:     2.1089 Validation Accuracy: 0.248000\n",
      "Epoch 22, CIFAR-10 Batch 1:  Loss:     2.0962 Validation Accuracy: 0.251200\n",
      "Epoch 23, CIFAR-10 Batch 1:  Loss:     2.0838 Validation Accuracy: 0.253200\n",
      "Epoch 24, CIFAR-10 Batch 1:  Loss:     2.0711 Validation Accuracy: 0.257800\n",
      "Epoch 25, CIFAR-10 Batch 1:  Loss:     2.0583 Validation Accuracy: 0.260000\n",
      "Epoch 26, CIFAR-10 Batch 1:  Loss:     2.0450 Validation Accuracy: 0.265200\n",
      "Epoch 27, CIFAR-10 Batch 1:  Loss:     2.0307 Validation Accuracy: 0.265600\n",
      "Epoch 28, CIFAR-10 Batch 1:  Loss:     2.0162 Validation Accuracy: 0.270200\n",
      "Epoch 29, CIFAR-10 Batch 1:  Loss:     2.0024 Validation Accuracy: 0.273600\n",
      "Epoch 30, CIFAR-10 Batch 1:  Loss:     1.9887 Validation Accuracy: 0.277400\n",
      "Epoch 31, CIFAR-10 Batch 1:  Loss:     1.9748 Validation Accuracy: 0.283400\n",
      "Epoch 32, CIFAR-10 Batch 1:  Loss:     1.9610 Validation Accuracy: 0.286400\n",
      "Epoch 33, CIFAR-10 Batch 1:  Loss:     1.9472 Validation Accuracy: 0.291600\n",
      "Epoch 34, CIFAR-10 Batch 1:  Loss:     1.9332 Validation Accuracy: 0.295800\n",
      "Epoch 35, CIFAR-10 Batch 1:  Loss:     1.9192 Validation Accuracy: 0.305000\n",
      "Epoch 36, CIFAR-10 Batch 1:  Loss:     1.9056 Validation Accuracy: 0.309400\n",
      "Epoch 37, CIFAR-10 Batch 1:  Loss:     1.8923 Validation Accuracy: 0.311600\n",
      "Epoch 38, CIFAR-10 Batch 1:  Loss:     1.8790 Validation Accuracy: 0.315800\n",
      "Epoch 39, CIFAR-10 Batch 1:  Loss:     1.8666 Validation Accuracy: 0.316000\n",
      "Epoch 40, CIFAR-10 Batch 1:  Loss:     1.8544 Validation Accuracy: 0.321800\n",
      "Epoch 41, CIFAR-10 Batch 1:  Loss:     1.8427 Validation Accuracy: 0.324600\n",
      "Epoch 42, CIFAR-10 Batch 1:  Loss:     1.8313 Validation Accuracy: 0.327400\n",
      "Epoch 43, CIFAR-10 Batch 1:  Loss:     1.8195 Validation Accuracy: 0.332800\n",
      "Epoch 44, CIFAR-10 Batch 1:  Loss:     1.8073 Validation Accuracy: 0.336600\n",
      "Epoch 45, CIFAR-10 Batch 1:  Loss:     1.7957 Validation Accuracy: 0.339800\n",
      "Epoch 46, CIFAR-10 Batch 1:  Loss:     1.7835 Validation Accuracy: 0.346200\n",
      "Epoch 47, CIFAR-10 Batch 1:  Loss:     1.7714 Validation Accuracy: 0.355000\n",
      "Epoch 48, CIFAR-10 Batch 1:  Loss:     1.7593 Validation Accuracy: 0.357400\n",
      "Epoch 49, CIFAR-10 Batch 1:  Loss:     1.7468 Validation Accuracy: 0.358600\n",
      "Epoch 50, CIFAR-10 Batch 1:  Loss:     1.7342 Validation Accuracy: 0.362600\n",
      "Epoch 51, CIFAR-10 Batch 1:  Loss:     1.7212 Validation Accuracy: 0.365200\n",
      "Epoch 52, CIFAR-10 Batch 1:  Loss:     1.7086 Validation Accuracy: 0.367600\n",
      "Epoch 53, CIFAR-10 Batch 1:  Loss:     1.6961 Validation Accuracy: 0.373400\n",
      "Epoch 54, CIFAR-10 Batch 1:  Loss:     1.6840 Validation Accuracy: 0.375800\n",
      "Epoch 55, CIFAR-10 Batch 1:  Loss:     1.6711 Validation Accuracy: 0.381200\n",
      "Epoch 56, CIFAR-10 Batch 1:  Loss:     1.6577 Validation Accuracy: 0.385000\n",
      "Epoch 57, CIFAR-10 Batch 1:  Loss:     1.6440 Validation Accuracy: 0.388800\n",
      "Epoch 58, CIFAR-10 Batch 1:  Loss:     1.6310 Validation Accuracy: 0.392800\n",
      "Epoch 59, CIFAR-10 Batch 1:  Loss:     1.6190 Validation Accuracy: 0.396800\n",
      "Epoch 60, CIFAR-10 Batch 1:  Loss:     1.6063 Validation Accuracy: 0.399800\n",
      "Epoch 61, CIFAR-10 Batch 1:  Loss:     1.5950 Validation Accuracy: 0.402000\n",
      "Epoch 62, CIFAR-10 Batch 1:  Loss:     1.5812 Validation Accuracy: 0.404800\n",
      "Epoch 63, CIFAR-10 Batch 1:  Loss:     1.5684 Validation Accuracy: 0.409200\n",
      "Epoch 64, CIFAR-10 Batch 1:  Loss:     1.5561 Validation Accuracy: 0.409600\n",
      "Epoch 65, CIFAR-10 Batch 1:  Loss:     1.5465 Validation Accuracy: 0.413200\n",
      "Epoch 66, CIFAR-10 Batch 1:  Loss:     1.5349 Validation Accuracy: 0.414600\n",
      "Epoch 67, CIFAR-10 Batch 1:  Loss:     1.5251 Validation Accuracy: 0.419000\n",
      "Epoch 68, CIFAR-10 Batch 1:  Loss:     1.5132 Validation Accuracy: 0.421000\n",
      "Epoch 69, CIFAR-10 Batch 1:  Loss:     1.5011 Validation Accuracy: 0.423000\n",
      "Epoch 70, CIFAR-10 Batch 1:  Loss:     1.4916 Validation Accuracy: 0.425000\n",
      "Epoch 71, CIFAR-10 Batch 1:  Loss:     1.4781 Validation Accuracy: 0.425200\n",
      "Epoch 72, CIFAR-10 Batch 1:  Loss:     1.4695 Validation Accuracy: 0.428400\n",
      "Epoch 73, CIFAR-10 Batch 1:  Loss:     1.4571 Validation Accuracy: 0.429600\n",
      "Epoch 74, CIFAR-10 Batch 1:  Loss:     1.4465 Validation Accuracy: 0.434000\n",
      "Epoch 75, CIFAR-10 Batch 1:  Loss:     1.4372 Validation Accuracy: 0.435600\n",
      "Epoch 76, CIFAR-10 Batch 1:  Loss:     1.4283 Validation Accuracy: 0.440000\n",
      "Epoch 77, CIFAR-10 Batch 1:  Loss:     1.4157 Validation Accuracy: 0.443000\n",
      "Epoch 78, CIFAR-10 Batch 1:  Loss:     1.4056 Validation Accuracy: 0.443000\n",
      "Epoch 79, CIFAR-10 Batch 1:  Loss:     1.3964 Validation Accuracy: 0.446200\n",
      "Epoch 80, CIFAR-10 Batch 1:  Loss:     1.3895 Validation Accuracy: 0.451800\n",
      "Epoch 81, CIFAR-10 Batch 1:  Loss:     1.3827 Validation Accuracy: 0.450600\n",
      "Epoch 82, CIFAR-10 Batch 1:  Loss:     1.3738 Validation Accuracy: 0.453400\n",
      "Epoch 83, CIFAR-10 Batch 1:  Loss:     1.3675 Validation Accuracy: 0.452400\n",
      "Epoch 84, CIFAR-10 Batch 1:  Loss:     1.3573 Validation Accuracy: 0.453200\n",
      "Epoch 85, CIFAR-10 Batch 1:  Loss:     1.3508 Validation Accuracy: 0.454000\n",
      "Epoch 86, CIFAR-10 Batch 1:  Loss:     1.3403 Validation Accuracy: 0.455000\n",
      "Epoch 87, CIFAR-10 Batch 1:  Loss:     1.3319 Validation Accuracy: 0.458400\n",
      "Epoch 88, CIFAR-10 Batch 1:  Loss:     1.3227 Validation Accuracy: 0.459400\n",
      "Epoch 89, CIFAR-10 Batch 1:  Loss:     1.3159 Validation Accuracy: 0.457600\n",
      "Epoch 90, CIFAR-10 Batch 1:  Loss:     1.3094 Validation Accuracy: 0.460000\n",
      "Epoch 91, CIFAR-10 Batch 1:  Loss:     1.3009 Validation Accuracy: 0.460800\n",
      "Epoch 92, CIFAR-10 Batch 1:  Loss:     1.2974 Validation Accuracy: 0.461800\n",
      "Epoch 93, CIFAR-10 Batch 1:  Loss:     1.2885 Validation Accuracy: 0.463400\n",
      "Epoch 94, CIFAR-10 Batch 1:  Loss:     1.2822 Validation Accuracy: 0.464000\n",
      "Epoch 95, CIFAR-10 Batch 1:  Loss:     1.2748 Validation Accuracy: 0.465200\n",
      "Epoch 96, CIFAR-10 Batch 1:  Loss:     1.2695 Validation Accuracy: 0.466400\n",
      "Epoch 97, CIFAR-10 Batch 1:  Loss:     1.2631 Validation Accuracy: 0.465200\n",
      "Epoch 98, CIFAR-10 Batch 1:  Loss:     1.2558 Validation Accuracy: 0.465200\n",
      "Epoch 99, CIFAR-10 Batch 1:  Loss:     1.2489 Validation Accuracy: 0.469800\n",
      "Epoch 100, CIFAR-10 Batch 1:  Loss:     1.2415 Validation Accuracy: 0.469600\n",
      "Epoch 101, CIFAR-10 Batch 1:  Loss:     1.2350 Validation Accuracy: 0.468800\n",
      "Epoch 102, CIFAR-10 Batch 1:  Loss:     1.2300 Validation Accuracy: 0.471200\n",
      "Epoch 103, CIFAR-10 Batch 1:  Loss:     1.2228 Validation Accuracy: 0.471000\n",
      "Epoch 104, CIFAR-10 Batch 1:  Loss:     1.2161 Validation Accuracy: 0.471200\n",
      "Epoch 105, CIFAR-10 Batch 1:  Loss:     1.2108 Validation Accuracy: 0.473000\n",
      "Epoch 106, CIFAR-10 Batch 1:  Loss:     1.2018 Validation Accuracy: 0.472200\n",
      "Epoch 107, CIFAR-10 Batch 1:  Loss:     1.1977 Validation Accuracy: 0.477000\n",
      "Epoch 108, CIFAR-10 Batch 1:  Loss:     1.1914 Validation Accuracy: 0.479400\n",
      "Epoch 109, CIFAR-10 Batch 1:  Loss:     1.1840 Validation Accuracy: 0.478000\n",
      "Epoch 110, CIFAR-10 Batch 1:  Loss:     1.1772 Validation Accuracy: 0.479400\n",
      "Epoch 111, CIFAR-10 Batch 1:  Loss:     1.1711 Validation Accuracy: 0.480200\n",
      "Epoch 112, CIFAR-10 Batch 1:  Loss:     1.1661 Validation Accuracy: 0.479800\n",
      "Epoch 113, CIFAR-10 Batch 1:  Loss:     1.1613 Validation Accuracy: 0.480600\n",
      "Epoch 114, CIFAR-10 Batch 1:  Loss:     1.1561 Validation Accuracy: 0.482800\n",
      "Epoch 115, CIFAR-10 Batch 1:  Loss:     1.1502 Validation Accuracy: 0.483600\n",
      "Epoch 116, CIFAR-10 Batch 1:  Loss:     1.1458 Validation Accuracy: 0.485200\n",
      "Epoch 117, CIFAR-10 Batch 1:  Loss:     1.1390 Validation Accuracy: 0.485600\n",
      "Epoch 118, CIFAR-10 Batch 1:  Loss:     1.1332 Validation Accuracy: 0.486600\n",
      "Epoch 119, CIFAR-10 Batch 1:  Loss:     1.1272 Validation Accuracy: 0.486200\n",
      "Epoch 120, CIFAR-10 Batch 1:  Loss:     1.1204 Validation Accuracy: 0.486200\n",
      "Epoch 121, CIFAR-10 Batch 1:  Loss:     1.1141 Validation Accuracy: 0.488400\n",
      "Epoch 122, CIFAR-10 Batch 1:  Loss:     1.1102 Validation Accuracy: 0.490000\n",
      "Epoch 123, CIFAR-10 Batch 1:  Loss:     1.1057 Validation Accuracy: 0.489400\n",
      "Epoch 124, CIFAR-10 Batch 1:  Loss:     1.1010 Validation Accuracy: 0.487000\n",
      "Epoch 125, CIFAR-10 Batch 1:  Loss:     1.0954 Validation Accuracy: 0.488200\n",
      "Epoch 126, CIFAR-10 Batch 1:  Loss:     1.0894 Validation Accuracy: 0.490600\n",
      "Epoch 127, CIFAR-10 Batch 1:  Loss:     1.0819 Validation Accuracy: 0.491000\n",
      "Epoch 128, CIFAR-10 Batch 1:  Loss:     1.0769 Validation Accuracy: 0.492600\n",
      "Epoch 129, CIFAR-10 Batch 1:  Loss:     1.0716 Validation Accuracy: 0.492400\n",
      "Epoch 130, CIFAR-10 Batch 1:  Loss:     1.0655 Validation Accuracy: 0.494000\n",
      "Epoch 131, CIFAR-10 Batch 1:  Loss:     1.0603 Validation Accuracy: 0.492200\n",
      "Epoch 132, CIFAR-10 Batch 1:  Loss:     1.0586 Validation Accuracy: 0.493400\n",
      "Epoch 133, CIFAR-10 Batch 1:  Loss:     1.0502 Validation Accuracy: 0.495400\n",
      "Epoch 134, CIFAR-10 Batch 1:  Loss:     1.0427 Validation Accuracy: 0.495000\n",
      "Epoch 135, CIFAR-10 Batch 1:  Loss:     1.0380 Validation Accuracy: 0.497200\n",
      "Epoch 136, CIFAR-10 Batch 1:  Loss:     1.0319 Validation Accuracy: 0.496600\n",
      "Epoch 137, CIFAR-10 Batch 1:  Loss:     1.0295 Validation Accuracy: 0.496600\n",
      "Epoch 138, CIFAR-10 Batch 1:  Loss:     1.0211 Validation Accuracy: 0.497600\n",
      "Epoch 139, CIFAR-10 Batch 1:  Loss:     1.0149 Validation Accuracy: 0.499000\n",
      "Epoch 140, CIFAR-10 Batch 1:  Loss:     1.0099 Validation Accuracy: 0.497000\n",
      "Epoch 141, CIFAR-10 Batch 1:  Loss:     1.0071 Validation Accuracy: 0.498400\n",
      "Epoch 142, CIFAR-10 Batch 1:  Loss:     1.0048 Validation Accuracy: 0.496000\n",
      "Epoch 143, CIFAR-10 Batch 1:  Loss:     0.9959 Validation Accuracy: 0.495800\n",
      "Epoch 144, CIFAR-10 Batch 1:  Loss:     0.9914 Validation Accuracy: 0.497600\n",
      "Epoch 145, CIFAR-10 Batch 1:  Loss:     0.9872 Validation Accuracy: 0.498800\n",
      "Epoch 146, CIFAR-10 Batch 1:  Loss:     0.9794 Validation Accuracy: 0.499600\n",
      "Epoch 147, CIFAR-10 Batch 1:  Loss:     0.9764 Validation Accuracy: 0.499200\n",
      "Epoch 148, CIFAR-10 Batch 1:  Loss:     0.9715 Validation Accuracy: 0.502200\n",
      "Epoch 149, CIFAR-10 Batch 1:  Loss:     0.9658 Validation Accuracy: 0.501400\n",
      "Epoch 150, CIFAR-10 Batch 1:  Loss:     0.9592 Validation Accuracy: 0.501600\n",
      "Epoch 151, CIFAR-10 Batch 1:  Loss:     0.9538 Validation Accuracy: 0.501800\n",
      "Epoch 152, CIFAR-10 Batch 1:  Loss:     0.9448 Validation Accuracy: 0.502600\n",
      "Epoch 153, CIFAR-10 Batch 1:  Loss:     0.9397 Validation Accuracy: 0.501800\n",
      "Epoch 154, CIFAR-10 Batch 1:  Loss:     0.9364 Validation Accuracy: 0.501600\n",
      "Epoch 155, CIFAR-10 Batch 1:  Loss:     0.9333 Validation Accuracy: 0.502600\n",
      "Epoch 156, CIFAR-10 Batch 1:  Loss:     0.9286 Validation Accuracy: 0.502400\n",
      "Epoch 157, CIFAR-10 Batch 1:  Loss:     0.9216 Validation Accuracy: 0.506200\n",
      "Epoch 158, CIFAR-10 Batch 1:  Loss:     0.9166 Validation Accuracy: 0.505800\n",
      "Epoch 159, CIFAR-10 Batch 1:  Loss:     0.9109 Validation Accuracy: 0.505200\n",
      "Epoch 160, CIFAR-10 Batch 1:  Loss:     0.9067 Validation Accuracy: 0.506400\n",
      "Epoch 161, CIFAR-10 Batch 1:  Loss:     0.9034 Validation Accuracy: 0.507800\n",
      "Epoch 162, CIFAR-10 Batch 1:  Loss:     0.8974 Validation Accuracy: 0.505600\n",
      "Epoch 163, CIFAR-10 Batch 1:  Loss:     0.8935 Validation Accuracy: 0.508400\n",
      "Epoch 164, CIFAR-10 Batch 1:  Loss:     0.8886 Validation Accuracy: 0.507600\n",
      "Epoch 165, CIFAR-10 Batch 1:  Loss:     0.8816 Validation Accuracy: 0.508800\n",
      "Epoch 166, CIFAR-10 Batch 1:  Loss:     0.8762 Validation Accuracy: 0.506200\n",
      "Epoch 167, CIFAR-10 Batch 1:  Loss:     0.8696 Validation Accuracy: 0.508800\n",
      "Epoch 168, CIFAR-10 Batch 1:  Loss:     0.8656 Validation Accuracy: 0.511400\n",
      "Epoch 169, CIFAR-10 Batch 1:  Loss:     0.8626 Validation Accuracy: 0.511200\n",
      "Epoch 170, CIFAR-10 Batch 1:  Loss:     0.8572 Validation Accuracy: 0.512200\n",
      "Epoch 171, CIFAR-10 Batch 1:  Loss:     0.8516 Validation Accuracy: 0.513200\n",
      "Epoch 172, CIFAR-10 Batch 1:  Loss:     0.8477 Validation Accuracy: 0.511400\n",
      "Epoch 173, CIFAR-10 Batch 1:  Loss:     0.8430 Validation Accuracy: 0.510400\n",
      "Epoch 174, CIFAR-10 Batch 1:  Loss:     0.8365 Validation Accuracy: 0.512600\n",
      "Epoch 175, CIFAR-10 Batch 1:  Loss:     0.8322 Validation Accuracy: 0.516200\n",
      "Epoch 176, CIFAR-10 Batch 1:  Loss:     0.8255 Validation Accuracy: 0.516600\n",
      "Epoch 177, CIFAR-10 Batch 1:  Loss:     0.8234 Validation Accuracy: 0.515400\n",
      "Epoch 178, CIFAR-10 Batch 1:  Loss:     0.8157 Validation Accuracy: 0.517400\n",
      "Epoch 179, CIFAR-10 Batch 1:  Loss:     0.8147 Validation Accuracy: 0.519600\n",
      "Epoch 180, CIFAR-10 Batch 1:  Loss:     0.8099 Validation Accuracy: 0.517800\n",
      "Epoch 181, CIFAR-10 Batch 1:  Loss:     0.8026 Validation Accuracy: 0.518000\n",
      "Epoch 182, CIFAR-10 Batch 1:  Loss:     0.7980 Validation Accuracy: 0.517800\n",
      "Epoch 183, CIFAR-10 Batch 1:  Loss:     0.7943 Validation Accuracy: 0.518600\n",
      "Epoch 184, CIFAR-10 Batch 1:  Loss:     0.7882 Validation Accuracy: 0.518000\n",
      "Epoch 185, CIFAR-10 Batch 1:  Loss:     0.7826 Validation Accuracy: 0.521800\n",
      "Epoch 186, CIFAR-10 Batch 1:  Loss:     0.7793 Validation Accuracy: 0.520400\n",
      "Epoch 187, CIFAR-10 Batch 1:  Loss:     0.7766 Validation Accuracy: 0.521400\n",
      "Epoch 188, CIFAR-10 Batch 1:  Loss:     0.7689 Validation Accuracy: 0.521000\n",
      "Epoch 189, CIFAR-10 Batch 1:  Loss:     0.7668 Validation Accuracy: 0.517600\n",
      "Epoch 190, CIFAR-10 Batch 1:  Loss:     0.7632 Validation Accuracy: 0.520400\n",
      "Epoch 191, CIFAR-10 Batch 1:  Loss:     0.7580 Validation Accuracy: 0.522000\n",
      "Epoch 192, CIFAR-10 Batch 1:  Loss:     0.7569 Validation Accuracy: 0.522200\n",
      "Epoch 193, CIFAR-10 Batch 1:  Loss:     0.7521 Validation Accuracy: 0.519400\n",
      "Epoch 194, CIFAR-10 Batch 1:  Loss:     0.7443 Validation Accuracy: 0.522200\n",
      "Epoch 195, CIFAR-10 Batch 1:  Loss:     0.7390 Validation Accuracy: 0.523800\n",
      "Epoch 196, CIFAR-10 Batch 1:  Loss:     0.7386 Validation Accuracy: 0.519800\n",
      "Epoch 197, CIFAR-10 Batch 1:  Loss:     0.7318 Validation Accuracy: 0.522600\n",
      "Epoch 198, CIFAR-10 Batch 1:  Loss:     0.7276 Validation Accuracy: 0.522000\n",
      "Epoch 199, CIFAR-10 Batch 1:  Loss:     0.7270 Validation Accuracy: 0.519400\n",
      "Epoch 200, CIFAR-10 Batch 1:  Loss:     0.7257 Validation Accuracy: 0.521400\n",
      "Epoch 201, CIFAR-10 Batch 1:  Loss:     0.7261 Validation Accuracy: 0.516800\n",
      "Epoch 202, CIFAR-10 Batch 1:  Loss:     0.7220 Validation Accuracy: 0.516400\n",
      "Epoch 203, CIFAR-10 Batch 1:  Loss:     0.7184 Validation Accuracy: 0.519600\n",
      "Epoch 204, CIFAR-10 Batch 1:  Loss:     0.7098 Validation Accuracy: 0.525200\n",
      "Epoch 205, CIFAR-10 Batch 1:  Loss:     0.7010 Validation Accuracy: 0.525600\n",
      "Epoch 206, CIFAR-10 Batch 1:  Loss:     0.6956 Validation Accuracy: 0.525000\n",
      "Epoch 207, CIFAR-10 Batch 1:  Loss:     0.6896 Validation Accuracy: 0.524400\n",
      "Epoch 208, CIFAR-10 Batch 1:  Loss:     0.6858 Validation Accuracy: 0.527600\n",
      "Epoch 209, CIFAR-10 Batch 1:  Loss:     0.6839 Validation Accuracy: 0.531600\n",
      "Epoch 210, CIFAR-10 Batch 1:  Loss:     0.6974 Validation Accuracy: 0.524600\n",
      "Epoch 211, CIFAR-10 Batch 1:  Loss:     0.7105 Validation Accuracy: 0.526200\n",
      "Epoch 212, CIFAR-10 Batch 1:  Loss:     0.6948 Validation Accuracy: 0.527800\n",
      "Epoch 213, CIFAR-10 Batch 1:  Loss:     0.6695 Validation Accuracy: 0.529600\n",
      "Epoch 214, CIFAR-10 Batch 1:  Loss:     0.6638 Validation Accuracy: 0.528400\n",
      "Epoch 215, CIFAR-10 Batch 1:  Loss:     0.6590 Validation Accuracy: 0.528400\n",
      "Epoch 216, CIFAR-10 Batch 1:  Loss:     0.6540 Validation Accuracy: 0.531600\n",
      "Epoch 217, CIFAR-10 Batch 1:  Loss:     0.6476 Validation Accuracy: 0.531200\n",
      "Epoch 218, CIFAR-10 Batch 1:  Loss:     0.6395 Validation Accuracy: 0.531200\n",
      "Epoch 219, CIFAR-10 Batch 1:  Loss:     0.6350 Validation Accuracy: 0.532400\n",
      "Epoch 220, CIFAR-10 Batch 1:  Loss:     0.6314 Validation Accuracy: 0.532200\n",
      "Epoch 221, CIFAR-10 Batch 1:  Loss:     0.6292 Validation Accuracy: 0.533200\n",
      "Epoch 222, CIFAR-10 Batch 1:  Loss:     0.6256 Validation Accuracy: 0.531200\n",
      "Epoch 223, CIFAR-10 Batch 1:  Loss:     0.6217 Validation Accuracy: 0.533800\n",
      "Epoch 224, CIFAR-10 Batch 1:  Loss:     0.6168 Validation Accuracy: 0.529800\n",
      "Epoch 225, CIFAR-10 Batch 1:  Loss:     0.6136 Validation Accuracy: 0.532200\n",
      "Epoch 226, CIFAR-10 Batch 1:  Loss:     0.6078 Validation Accuracy: 0.532600\n",
      "Epoch 227, CIFAR-10 Batch 1:  Loss:     0.6028 Validation Accuracy: 0.532800\n",
      "Epoch 228, CIFAR-10 Batch 1:  Loss:     0.5995 Validation Accuracy: 0.532000\n",
      "Epoch 229, CIFAR-10 Batch 1:  Loss:     0.5964 Validation Accuracy: 0.535200\n",
      "Epoch 230, CIFAR-10 Batch 1:  Loss:     0.5960 Validation Accuracy: 0.534200\n",
      "Epoch 231, CIFAR-10 Batch 1:  Loss:     0.5879 Validation Accuracy: 0.533600\n",
      "Epoch 232, CIFAR-10 Batch 1:  Loss:     0.5846 Validation Accuracy: 0.532600\n",
      "Epoch 233, CIFAR-10 Batch 1:  Loss:     0.5811 Validation Accuracy: 0.532800\n",
      "Epoch 234, CIFAR-10 Batch 1:  Loss:     0.5799 Validation Accuracy: 0.532400\n",
      "Epoch 235, CIFAR-10 Batch 1:  Loss:     0.5745 Validation Accuracy: 0.530800\n",
      "Epoch 236, CIFAR-10 Batch 1:  Loss:     0.5714 Validation Accuracy: 0.532200\n",
      "Epoch 237, CIFAR-10 Batch 1:  Loss:     0.5672 Validation Accuracy: 0.534000\n",
      "Epoch 238, CIFAR-10 Batch 1:  Loss:     0.5615 Validation Accuracy: 0.535000\n",
      "Epoch 239, CIFAR-10 Batch 1:  Loss:     0.5583 Validation Accuracy: 0.534000\n",
      "Epoch 240, CIFAR-10 Batch 1:  Loss:     0.5559 Validation Accuracy: 0.536000\n",
      "Epoch 241, CIFAR-10 Batch 1:  Loss:     0.5523 Validation Accuracy: 0.536200\n",
      "Epoch 242, CIFAR-10 Batch 1:  Loss:     0.5489 Validation Accuracy: 0.535000\n",
      "Epoch 243, CIFAR-10 Batch 1:  Loss:     0.5455 Validation Accuracy: 0.536200\n",
      "Epoch 244, CIFAR-10 Batch 1:  Loss:     0.5394 Validation Accuracy: 0.537000\n",
      "Epoch 245, CIFAR-10 Batch 1:  Loss:     0.5376 Validation Accuracy: 0.536200\n",
      "Epoch 246, CIFAR-10 Batch 1:  Loss:     0.5373 Validation Accuracy: 0.538400\n",
      "Epoch 247, CIFAR-10 Batch 1:  Loss:     0.5312 Validation Accuracy: 0.538200\n",
      "Epoch 248, CIFAR-10 Batch 1:  Loss:     0.5266 Validation Accuracy: 0.536400\n",
      "Epoch 249, CIFAR-10 Batch 1:  Loss:     0.5249 Validation Accuracy: 0.536000\n",
      "Epoch 250, CIFAR-10 Batch 1:  Loss:     0.5225 Validation Accuracy: 0.536000\n",
      "Epoch 251, CIFAR-10 Batch 1:  Loss:     0.5184 Validation Accuracy: 0.538000\n",
      "Epoch 252, CIFAR-10 Batch 1:  Loss:     0.5105 Validation Accuracy: 0.537800\n"
     ]
    },
    {
     "ename": "KeyboardInterrupt",
     "evalue": "",
     "output_type": "error",
     "traceback": [
      "\u001b[0;31m---------------------------------------------------------------------------\u001b[0m",
      "\u001b[0;31mKeyboardInterrupt\u001b[0m                         Traceback (most recent call last)",
      "\u001b[0;32m<ipython-input-25-0ebd1bbc35ad>\u001b[0m in \u001b[0;36m<module>\u001b[0;34m()\u001b[0m\n\u001b[1;32m     11\u001b[0m         \u001b[0mbatch_i\u001b[0m \u001b[0;34m=\u001b[0m \u001b[0;36m1\u001b[0m\u001b[0;34m\u001b[0m\u001b[0m\n\u001b[1;32m     12\u001b[0m         \u001b[0;32mfor\u001b[0m \u001b[0mbatch_features\u001b[0m\u001b[0;34m,\u001b[0m \u001b[0mbatch_labels\u001b[0m \u001b[0;32min\u001b[0m \u001b[0mhelper\u001b[0m\u001b[0;34m.\u001b[0m\u001b[0mload_preprocess_training_batch\u001b[0m\u001b[0;34m(\u001b[0m\u001b[0mbatch_i\u001b[0m\u001b[0;34m,\u001b[0m \u001b[0mbatch_size\u001b[0m\u001b[0;34m)\u001b[0m\u001b[0;34m:\u001b[0m\u001b[0;34m\u001b[0m\u001b[0m\n\u001b[0;32m---> 13\u001b[0;31m             \u001b[0mtrain_neural_network\u001b[0m\u001b[0;34m(\u001b[0m\u001b[0msess\u001b[0m\u001b[0;34m,\u001b[0m \u001b[0moptimizer\u001b[0m\u001b[0;34m,\u001b[0m \u001b[0mkeep_probability\u001b[0m\u001b[0;34m,\u001b[0m \u001b[0mbatch_features\u001b[0m\u001b[0;34m,\u001b[0m \u001b[0mbatch_labels\u001b[0m\u001b[0;34m)\u001b[0m\u001b[0;34m\u001b[0m\u001b[0m\n\u001b[0m\u001b[1;32m     14\u001b[0m         \u001b[0mprint\u001b[0m\u001b[0;34m(\u001b[0m\u001b[0;34m'Epoch {:>2}, CIFAR-10 Batch {}:  '\u001b[0m\u001b[0;34m.\u001b[0m\u001b[0mformat\u001b[0m\u001b[0;34m(\u001b[0m\u001b[0mepoch\u001b[0m \u001b[0;34m+\u001b[0m \u001b[0;36m1\u001b[0m\u001b[0;34m,\u001b[0m \u001b[0mbatch_i\u001b[0m\u001b[0;34m)\u001b[0m\u001b[0;34m,\u001b[0m \u001b[0mend\u001b[0m\u001b[0;34m=\u001b[0m\u001b[0;34m''\u001b[0m\u001b[0;34m)\u001b[0m\u001b[0;34m\u001b[0m\u001b[0m\n\u001b[1;32m     15\u001b[0m         \u001b[0mprint_stats\u001b[0m\u001b[0;34m(\u001b[0m\u001b[0msess\u001b[0m\u001b[0;34m,\u001b[0m \u001b[0mbatch_features\u001b[0m\u001b[0;34m,\u001b[0m \u001b[0mbatch_labels\u001b[0m\u001b[0;34m,\u001b[0m \u001b[0mcost\u001b[0m\u001b[0;34m,\u001b[0m \u001b[0maccuracy\u001b[0m\u001b[0;34m)\u001b[0m\u001b[0;34m\u001b[0m\u001b[0m\n",
      "\u001b[0;32m<ipython-input-20-adc8a0522e3f>\u001b[0m in \u001b[0;36mtrain_neural_network\u001b[0;34m(session, optimizer, keep_probability, feature_batch, label_batch)\u001b[0m\n\u001b[1;32m     12\u001b[0m         \u001b[0mx\u001b[0m\u001b[0;34m:\u001b[0m \u001b[0mfeature_batch\u001b[0m\u001b[0;34m,\u001b[0m\u001b[0;34m\u001b[0m\u001b[0m\n\u001b[1;32m     13\u001b[0m         \u001b[0my\u001b[0m\u001b[0;34m:\u001b[0m \u001b[0mlabel_batch\u001b[0m\u001b[0;34m,\u001b[0m\u001b[0;34m\u001b[0m\u001b[0m\n\u001b[0;32m---> 14\u001b[0;31m         \u001b[0mkeep_prob\u001b[0m\u001b[0;34m:\u001b[0m \u001b[0mkeep_probability\u001b[0m\u001b[0;34m\u001b[0m\u001b[0m\n\u001b[0m\u001b[1;32m     15\u001b[0m     })\n\u001b[1;32m     16\u001b[0m \u001b[0;34m\u001b[0m\u001b[0m\n",
      "\u001b[0;32m/home/carnd/anaconda3/envs/dl/lib/python3.5/site-packages/tensorflow/python/client/session.py\u001b[0m in \u001b[0;36mrun\u001b[0;34m(self, fetches, feed_dict, options, run_metadata)\u001b[0m\n\u001b[1;32m    765\u001b[0m     \u001b[0;32mtry\u001b[0m\u001b[0;34m:\u001b[0m\u001b[0;34m\u001b[0m\u001b[0m\n\u001b[1;32m    766\u001b[0m       result = self._run(None, fetches, feed_dict, options_ptr,\n\u001b[0;32m--> 767\u001b[0;31m                          run_metadata_ptr)\n\u001b[0m\u001b[1;32m    768\u001b[0m       \u001b[0;32mif\u001b[0m \u001b[0mrun_metadata\u001b[0m\u001b[0;34m:\u001b[0m\u001b[0;34m\u001b[0m\u001b[0m\n\u001b[1;32m    769\u001b[0m         \u001b[0mproto_data\u001b[0m \u001b[0;34m=\u001b[0m \u001b[0mtf_session\u001b[0m\u001b[0;34m.\u001b[0m\u001b[0mTF_GetBuffer\u001b[0m\u001b[0;34m(\u001b[0m\u001b[0mrun_metadata_ptr\u001b[0m\u001b[0;34m)\u001b[0m\u001b[0;34m\u001b[0m\u001b[0m\n",
      "\u001b[0;32m/home/carnd/anaconda3/envs/dl/lib/python3.5/site-packages/tensorflow/python/client/session.py\u001b[0m in \u001b[0;36m_run\u001b[0;34m(self, handle, fetches, feed_dict, options, run_metadata)\u001b[0m\n\u001b[1;32m    963\u001b[0m     \u001b[0;32mif\u001b[0m \u001b[0mfinal_fetches\u001b[0m \u001b[0;32mor\u001b[0m \u001b[0mfinal_targets\u001b[0m\u001b[0;34m:\u001b[0m\u001b[0;34m\u001b[0m\u001b[0m\n\u001b[1;32m    964\u001b[0m       results = self._do_run(handle, final_targets, final_fetches,\n\u001b[0;32m--> 965\u001b[0;31m                              feed_dict_string, options, run_metadata)\n\u001b[0m\u001b[1;32m    966\u001b[0m     \u001b[0;32melse\u001b[0m\u001b[0;34m:\u001b[0m\u001b[0;34m\u001b[0m\u001b[0m\n\u001b[1;32m    967\u001b[0m       \u001b[0mresults\u001b[0m \u001b[0;34m=\u001b[0m \u001b[0;34m[\u001b[0m\u001b[0;34m]\u001b[0m\u001b[0;34m\u001b[0m\u001b[0m\n",
      "\u001b[0;32m/home/carnd/anaconda3/envs/dl/lib/python3.5/site-packages/tensorflow/python/client/session.py\u001b[0m in \u001b[0;36m_do_run\u001b[0;34m(self, handle, target_list, fetch_list, feed_dict, options, run_metadata)\u001b[0m\n\u001b[1;32m   1013\u001b[0m     \u001b[0;32mif\u001b[0m \u001b[0mhandle\u001b[0m \u001b[0;32mis\u001b[0m \u001b[0;32mNone\u001b[0m\u001b[0;34m:\u001b[0m\u001b[0;34m\u001b[0m\u001b[0m\n\u001b[1;32m   1014\u001b[0m       return self._do_call(_run_fn, self._session, feed_dict, fetch_list,\n\u001b[0;32m-> 1015\u001b[0;31m                            target_list, options, run_metadata)\n\u001b[0m\u001b[1;32m   1016\u001b[0m     \u001b[0;32melse\u001b[0m\u001b[0;34m:\u001b[0m\u001b[0;34m\u001b[0m\u001b[0m\n\u001b[1;32m   1017\u001b[0m       return self._do_call(_prun_fn, self._session, handle, feed_dict,\n",
      "\u001b[0;32m/home/carnd/anaconda3/envs/dl/lib/python3.5/site-packages/tensorflow/python/client/session.py\u001b[0m in \u001b[0;36m_do_call\u001b[0;34m(self, fn, *args)\u001b[0m\n\u001b[1;32m   1020\u001b[0m   \u001b[0;32mdef\u001b[0m \u001b[0m_do_call\u001b[0m\u001b[0;34m(\u001b[0m\u001b[0mself\u001b[0m\u001b[0;34m,\u001b[0m \u001b[0mfn\u001b[0m\u001b[0;34m,\u001b[0m \u001b[0;34m*\u001b[0m\u001b[0margs\u001b[0m\u001b[0;34m)\u001b[0m\u001b[0;34m:\u001b[0m\u001b[0;34m\u001b[0m\u001b[0m\n\u001b[1;32m   1021\u001b[0m     \u001b[0;32mtry\u001b[0m\u001b[0;34m:\u001b[0m\u001b[0;34m\u001b[0m\u001b[0m\n\u001b[0;32m-> 1022\u001b[0;31m       \u001b[0;32mreturn\u001b[0m \u001b[0mfn\u001b[0m\u001b[0;34m(\u001b[0m\u001b[0;34m*\u001b[0m\u001b[0margs\u001b[0m\u001b[0;34m)\u001b[0m\u001b[0;34m\u001b[0m\u001b[0m\n\u001b[0m\u001b[1;32m   1023\u001b[0m     \u001b[0;32mexcept\u001b[0m \u001b[0merrors\u001b[0m\u001b[0;34m.\u001b[0m\u001b[0mOpError\u001b[0m \u001b[0;32mas\u001b[0m \u001b[0me\u001b[0m\u001b[0;34m:\u001b[0m\u001b[0;34m\u001b[0m\u001b[0m\n\u001b[1;32m   1024\u001b[0m       \u001b[0mmessage\u001b[0m \u001b[0;34m=\u001b[0m \u001b[0mcompat\u001b[0m\u001b[0;34m.\u001b[0m\u001b[0mas_text\u001b[0m\u001b[0;34m(\u001b[0m\u001b[0me\u001b[0m\u001b[0;34m.\u001b[0m\u001b[0mmessage\u001b[0m\u001b[0;34m)\u001b[0m\u001b[0;34m\u001b[0m\u001b[0m\n",
      "\u001b[0;32m/home/carnd/anaconda3/envs/dl/lib/python3.5/site-packages/tensorflow/python/client/session.py\u001b[0m in \u001b[0;36m_run_fn\u001b[0;34m(session, feed_dict, fetch_list, target_list, options, run_metadata)\u001b[0m\n\u001b[1;32m   1002\u001b[0m         return tf_session.TF_Run(session, options,\n\u001b[1;32m   1003\u001b[0m                                  \u001b[0mfeed_dict\u001b[0m\u001b[0;34m,\u001b[0m \u001b[0mfetch_list\u001b[0m\u001b[0;34m,\u001b[0m \u001b[0mtarget_list\u001b[0m\u001b[0;34m,\u001b[0m\u001b[0;34m\u001b[0m\u001b[0m\n\u001b[0;32m-> 1004\u001b[0;31m                                  status, run_metadata)\n\u001b[0m\u001b[1;32m   1005\u001b[0m \u001b[0;34m\u001b[0m\u001b[0m\n\u001b[1;32m   1006\u001b[0m     \u001b[0;32mdef\u001b[0m \u001b[0m_prun_fn\u001b[0m\u001b[0;34m(\u001b[0m\u001b[0msession\u001b[0m\u001b[0;34m,\u001b[0m \u001b[0mhandle\u001b[0m\u001b[0;34m,\u001b[0m \u001b[0mfeed_dict\u001b[0m\u001b[0;34m,\u001b[0m \u001b[0mfetch_list\u001b[0m\u001b[0;34m)\u001b[0m\u001b[0;34m:\u001b[0m\u001b[0;34m\u001b[0m\u001b[0m\n",
      "\u001b[0;31mKeyboardInterrupt\u001b[0m: "
     ]
    }
   ],
   "source": [
    "\"\"\"\n",
    "DON'T MODIFY ANYTHING IN THIS CELL\n",
    "\"\"\"\n",
    "print('Checking the Training on a Single Batch...')\n",
    "with tf.Session() as sess:\n",
    "    # Initializing the variables\n",
    "    sess.run(tf.global_variables_initializer())\n",
    "    \n",
    "    # Training cycle\n",
    "    for epoch in range(epochs):\n",
    "        batch_i = 1\n",
    "        for batch_features, batch_labels in helper.load_preprocess_training_batch(batch_i, batch_size):\n",
    "            train_neural_network(sess, optimizer, keep_probability, batch_features, batch_labels)\n",
    "        print('Epoch {:>2}, CIFAR-10 Batch {}:  '.format(epoch + 1, batch_i), end='')\n",
    "        print_stats(sess, batch_features, batch_labels, cost, accuracy)"
   ]
  },
  {
   "cell_type": "markdown",
   "metadata": {
    "deletable": true,
    "editable": true
   },
   "source": [
    "### Fully Train the Model\n",
    "Now that you got a good accuracy with a single CIFAR-10 batch, try it with all five batches."
   ]
  },
  {
   "cell_type": "code",
   "execution_count": 29,
   "metadata": {
    "collapsed": false,
    "deletable": true,
    "editable": true
   },
   "outputs": [
    {
     "name": "stdout",
     "output_type": "stream",
     "text": [
      "Training...\n",
      "Epoch  1, CIFAR-10 Batch 1:  Loss:    71.9425 Validation Accuracy: 0.096800\n",
      "Epoch  1, CIFAR-10 Batch 2:  Loss:    23.2315 Validation Accuracy: 0.107800\n",
      "Epoch  1, CIFAR-10 Batch 3:  Loss:     7.7263 Validation Accuracy: 0.102600\n",
      "Epoch  1, CIFAR-10 Batch 4:  Loss:     6.5243 Validation Accuracy: 0.093600\n",
      "Epoch  1, CIFAR-10 Batch 5:  Loss:     3.9126 Validation Accuracy: 0.143000\n",
      "Epoch  2, CIFAR-10 Batch 1:  Loss:     2.9937 Validation Accuracy: 0.123000\n",
      "Epoch  2, CIFAR-10 Batch 2:  Loss:     3.0911 Validation Accuracy: 0.118000\n",
      "Epoch  2, CIFAR-10 Batch 3:  Loss:     2.6624 Validation Accuracy: 0.136600\n",
      "Epoch  2, CIFAR-10 Batch 4:  Loss:     2.3607 Validation Accuracy: 0.146600\n",
      "Epoch  2, CIFAR-10 Batch 5:  Loss:     2.2954 Validation Accuracy: 0.152000\n",
      "Epoch  3, CIFAR-10 Batch 1:  Loss:     2.3042 Validation Accuracy: 0.152200\n",
      "Epoch  3, CIFAR-10 Batch 2:  Loss:     2.2819 Validation Accuracy: 0.153000\n",
      "Epoch  3, CIFAR-10 Batch 3:  Loss:     2.2217 Validation Accuracy: 0.162400\n",
      "Epoch  3, CIFAR-10 Batch 4:  Loss:     2.2024 Validation Accuracy: 0.176800\n",
      "Epoch  3, CIFAR-10 Batch 5:  Loss:     2.2204 Validation Accuracy: 0.185600\n",
      "Epoch  4, CIFAR-10 Batch 1:  Loss:     2.2038 Validation Accuracy: 0.191600\n",
      "Epoch  4, CIFAR-10 Batch 2:  Loss:     2.2014 Validation Accuracy: 0.201200\n",
      "Epoch  4, CIFAR-10 Batch 3:  Loss:     2.1590 Validation Accuracy: 0.205000\n",
      "Epoch  4, CIFAR-10 Batch 4:  Loss:     2.1386 Validation Accuracy: 0.208600\n",
      "Epoch  4, CIFAR-10 Batch 5:  Loss:     2.1520 Validation Accuracy: 0.214800\n",
      "Epoch  5, CIFAR-10 Batch 1:  Loss:     2.1364 Validation Accuracy: 0.221200\n",
      "Epoch  5, CIFAR-10 Batch 2:  Loss:     2.1286 Validation Accuracy: 0.232000\n",
      "Epoch  5, CIFAR-10 Batch 3:  Loss:     2.0935 Validation Accuracy: 0.238200\n",
      "Epoch  5, CIFAR-10 Batch 4:  Loss:     2.0680 Validation Accuracy: 0.244800\n",
      "Epoch  5, CIFAR-10 Batch 5:  Loss:     2.0848 Validation Accuracy: 0.249400\n",
      "Epoch  6, CIFAR-10 Batch 1:  Loss:     2.0639 Validation Accuracy: 0.256000\n",
      "Epoch  6, CIFAR-10 Batch 2:  Loss:     2.0458 Validation Accuracy: 0.266600\n",
      "Epoch  6, CIFAR-10 Batch 3:  Loss:     2.0069 Validation Accuracy: 0.273200\n",
      "Epoch  6, CIFAR-10 Batch 4:  Loss:     1.9834 Validation Accuracy: 0.283200\n",
      "Epoch  6, CIFAR-10 Batch 5:  Loss:     2.0042 Validation Accuracy: 0.291600\n",
      "Epoch  7, CIFAR-10 Batch 1:  Loss:     1.9727 Validation Accuracy: 0.294800\n",
      "Epoch  7, CIFAR-10 Batch 2:  Loss:     1.9627 Validation Accuracy: 0.304800\n",
      "Epoch  7, CIFAR-10 Batch 3:  Loss:     1.9185 Validation Accuracy: 0.314800\n",
      "Epoch  7, CIFAR-10 Batch 4:  Loss:     1.9025 Validation Accuracy: 0.318000\n",
      "Epoch  7, CIFAR-10 Batch 5:  Loss:     1.9208 Validation Accuracy: 0.324600\n",
      "Epoch  8, CIFAR-10 Batch 1:  Loss:     1.8903 Validation Accuracy: 0.331200\n",
      "Epoch  8, CIFAR-10 Batch 2:  Loss:     1.8904 Validation Accuracy: 0.335600\n",
      "Epoch  8, CIFAR-10 Batch 3:  Loss:     1.8411 Validation Accuracy: 0.339200\n",
      "Epoch  8, CIFAR-10 Batch 4:  Loss:     1.8360 Validation Accuracy: 0.341200\n",
      "Epoch  8, CIFAR-10 Batch 5:  Loss:     1.8490 Validation Accuracy: 0.344200\n",
      "Epoch  9, CIFAR-10 Batch 1:  Loss:     1.8253 Validation Accuracy: 0.347200\n",
      "Epoch  9, CIFAR-10 Batch 2:  Loss:     1.8329 Validation Accuracy: 0.357400\n",
      "Epoch  9, CIFAR-10 Batch 3:  Loss:     1.7767 Validation Accuracy: 0.361800\n",
      "Epoch  9, CIFAR-10 Batch 4:  Loss:     1.7841 Validation Accuracy: 0.360400\n",
      "Epoch  9, CIFAR-10 Batch 5:  Loss:     1.7912 Validation Accuracy: 0.360000\n",
      "Epoch 10, CIFAR-10 Batch 1:  Loss:     1.7750 Validation Accuracy: 0.363000\n",
      "Epoch 10, CIFAR-10 Batch 2:  Loss:     1.7848 Validation Accuracy: 0.368000\n",
      "Epoch 10, CIFAR-10 Batch 3:  Loss:     1.7261 Validation Accuracy: 0.373200\n",
      "Epoch 10, CIFAR-10 Batch 4:  Loss:     1.7438 Validation Accuracy: 0.374200\n",
      "Epoch 10, CIFAR-10 Batch 5:  Loss:     1.7436 Validation Accuracy: 0.378600\n",
      "Epoch 11, CIFAR-10 Batch 1:  Loss:     1.7307 Validation Accuracy: 0.381800\n",
      "Epoch 11, CIFAR-10 Batch 2:  Loss:     1.7432 Validation Accuracy: 0.386400\n",
      "Epoch 11, CIFAR-10 Batch 3:  Loss:     1.6806 Validation Accuracy: 0.388600\n",
      "Epoch 11, CIFAR-10 Batch 4:  Loss:     1.7055 Validation Accuracy: 0.390800\n",
      "Epoch 11, CIFAR-10 Batch 5:  Loss:     1.7078 Validation Accuracy: 0.390600\n",
      "Epoch 12, CIFAR-10 Batch 1:  Loss:     1.6934 Validation Accuracy: 0.394200\n",
      "Epoch 12, CIFAR-10 Batch 2:  Loss:     1.7081 Validation Accuracy: 0.395200\n",
      "Epoch 12, CIFAR-10 Batch 3:  Loss:     1.6469 Validation Accuracy: 0.400600\n",
      "Epoch 12, CIFAR-10 Batch 4:  Loss:     1.6712 Validation Accuracy: 0.400600\n",
      "Epoch 12, CIFAR-10 Batch 5:  Loss:     1.6717 Validation Accuracy: 0.401000\n",
      "Epoch 13, CIFAR-10 Batch 1:  Loss:     1.6614 Validation Accuracy: 0.404000\n",
      "Epoch 13, CIFAR-10 Batch 2:  Loss:     1.6730 Validation Accuracy: 0.409000\n",
      "Epoch 13, CIFAR-10 Batch 3:  Loss:     1.6129 Validation Accuracy: 0.411200\n",
      "Epoch 13, CIFAR-10 Batch 4:  Loss:     1.6344 Validation Accuracy: 0.415000\n",
      "Epoch 13, CIFAR-10 Batch 5:  Loss:     1.6396 Validation Accuracy: 0.415000\n",
      "Epoch 14, CIFAR-10 Batch 1:  Loss:     1.6312 Validation Accuracy: 0.417400\n",
      "Epoch 14, CIFAR-10 Batch 2:  Loss:     1.6381 Validation Accuracy: 0.418800\n",
      "Epoch 14, CIFAR-10 Batch 3:  Loss:     1.5847 Validation Accuracy: 0.419800\n",
      "Epoch 14, CIFAR-10 Batch 4:  Loss:     1.6047 Validation Accuracy: 0.426400\n",
      "Epoch 14, CIFAR-10 Batch 5:  Loss:     1.6100 Validation Accuracy: 0.424800\n",
      "Epoch 15, CIFAR-10 Batch 1:  Loss:     1.6026 Validation Accuracy: 0.428200\n",
      "Epoch 15, CIFAR-10 Batch 2:  Loss:     1.6062 Validation Accuracy: 0.428000\n",
      "Epoch 15, CIFAR-10 Batch 3:  Loss:     1.5567 Validation Accuracy: 0.426600\n",
      "Epoch 15, CIFAR-10 Batch 4:  Loss:     1.5743 Validation Accuracy: 0.432600\n",
      "Epoch 15, CIFAR-10 Batch 5:  Loss:     1.5845 Validation Accuracy: 0.435000\n",
      "Epoch 16, CIFAR-10 Batch 1:  Loss:     1.5778 Validation Accuracy: 0.432600\n",
      "Epoch 16, CIFAR-10 Batch 2:  Loss:     1.5784 Validation Accuracy: 0.432600\n",
      "Epoch 16, CIFAR-10 Batch 3:  Loss:     1.5336 Validation Accuracy: 0.432000\n",
      "Epoch 16, CIFAR-10 Batch 4:  Loss:     1.5494 Validation Accuracy: 0.440200\n",
      "Epoch 16, CIFAR-10 Batch 5:  Loss:     1.5603 Validation Accuracy: 0.437400\n",
      "Epoch 17, CIFAR-10 Batch 1:  Loss:     1.5524 Validation Accuracy: 0.438600\n",
      "Epoch 17, CIFAR-10 Batch 2:  Loss:     1.5511 Validation Accuracy: 0.439200\n",
      "Epoch 17, CIFAR-10 Batch 3:  Loss:     1.5088 Validation Accuracy: 0.440200\n",
      "Epoch 17, CIFAR-10 Batch 4:  Loss:     1.5223 Validation Accuracy: 0.445200\n",
      "Epoch 17, CIFAR-10 Batch 5:  Loss:     1.5410 Validation Accuracy: 0.440000\n",
      "Epoch 18, CIFAR-10 Batch 1:  Loss:     1.5298 Validation Accuracy: 0.445800\n",
      "Epoch 18, CIFAR-10 Batch 2:  Loss:     1.5287 Validation Accuracy: 0.447400\n",
      "Epoch 18, CIFAR-10 Batch 3:  Loss:     1.4853 Validation Accuracy: 0.447400\n",
      "Epoch 18, CIFAR-10 Batch 4:  Loss:     1.5007 Validation Accuracy: 0.450200\n",
      "Epoch 18, CIFAR-10 Batch 5:  Loss:     1.5204 Validation Accuracy: 0.447400\n",
      "Epoch 19, CIFAR-10 Batch 1:  Loss:     1.5109 Validation Accuracy: 0.448800\n",
      "Epoch 19, CIFAR-10 Batch 2:  Loss:     1.5111 Validation Accuracy: 0.450800\n",
      "Epoch 19, CIFAR-10 Batch 3:  Loss:     1.4692 Validation Accuracy: 0.453000\n",
      "Epoch 19, CIFAR-10 Batch 4:  Loss:     1.4790 Validation Accuracy: 0.455200\n",
      "Epoch 19, CIFAR-10 Batch 5:  Loss:     1.4987 Validation Accuracy: 0.455200\n",
      "Epoch 20, CIFAR-10 Batch 1:  Loss:     1.4901 Validation Accuracy: 0.455800\n",
      "Epoch 20, CIFAR-10 Batch 2:  Loss:     1.4889 Validation Accuracy: 0.453000\n",
      "Epoch 20, CIFAR-10 Batch 3:  Loss:     1.4505 Validation Accuracy: 0.457600\n",
      "Epoch 20, CIFAR-10 Batch 4:  Loss:     1.4593 Validation Accuracy: 0.457200\n",
      "Epoch 20, CIFAR-10 Batch 5:  Loss:     1.4827 Validation Accuracy: 0.452000\n",
      "Epoch 21, CIFAR-10 Batch 1:  Loss:     1.4707 Validation Accuracy: 0.460000\n",
      "Epoch 21, CIFAR-10 Batch 2:  Loss:     1.4725 Validation Accuracy: 0.458800\n",
      "Epoch 21, CIFAR-10 Batch 3:  Loss:     1.4301 Validation Accuracy: 0.460400\n",
      "Epoch 21, CIFAR-10 Batch 4:  Loss:     1.4413 Validation Accuracy: 0.464400\n",
      "Epoch 21, CIFAR-10 Batch 5:  Loss:     1.4663 Validation Accuracy: 0.459200\n",
      "Epoch 22, CIFAR-10 Batch 1:  Loss:     1.4544 Validation Accuracy: 0.463400\n",
      "Epoch 22, CIFAR-10 Batch 2:  Loss:     1.4546 Validation Accuracy: 0.465600\n",
      "Epoch 22, CIFAR-10 Batch 3:  Loss:     1.4139 Validation Accuracy: 0.469800\n",
      "Epoch 22, CIFAR-10 Batch 4:  Loss:     1.4240 Validation Accuracy: 0.472200\n",
      "Epoch 22, CIFAR-10 Batch 5:  Loss:     1.4468 Validation Accuracy: 0.465400\n",
      "Epoch 23, CIFAR-10 Batch 1:  Loss:     1.4364 Validation Accuracy: 0.470800\n",
      "Epoch 23, CIFAR-10 Batch 2:  Loss:     1.4386 Validation Accuracy: 0.469200\n",
      "Epoch 23, CIFAR-10 Batch 3:  Loss:     1.3994 Validation Accuracy: 0.470800\n",
      "Epoch 23, CIFAR-10 Batch 4:  Loss:     1.4076 Validation Accuracy: 0.472800\n",
      "Epoch 23, CIFAR-10 Batch 5:  Loss:     1.4299 Validation Accuracy: 0.468400\n",
      "Epoch 24, CIFAR-10 Batch 1:  Loss:     1.4185 Validation Accuracy: 0.475600\n",
      "Epoch 24, CIFAR-10 Batch 2:  Loss:     1.4217 Validation Accuracy: 0.475400\n",
      "Epoch 24, CIFAR-10 Batch 3:  Loss:     1.3863 Validation Accuracy: 0.478000\n",
      "Epoch 24, CIFAR-10 Batch 4:  Loss:     1.3900 Validation Accuracy: 0.477200\n",
      "Epoch 24, CIFAR-10 Batch 5:  Loss:     1.4126 Validation Accuracy: 0.476000\n",
      "Epoch 25, CIFAR-10 Batch 1:  Loss:     1.4020 Validation Accuracy: 0.478600\n",
      "Epoch 25, CIFAR-10 Batch 2:  Loss:     1.4058 Validation Accuracy: 0.481400\n",
      "Epoch 25, CIFAR-10 Batch 3:  Loss:     1.3679 Validation Accuracy: 0.482800\n",
      "Epoch 25, CIFAR-10 Batch 4:  Loss:     1.3739 Validation Accuracy: 0.483200\n",
      "Epoch 25, CIFAR-10 Batch 5:  Loss:     1.3992 Validation Accuracy: 0.473400\n",
      "Epoch 26, CIFAR-10 Batch 1:  Loss:     1.3859 Validation Accuracy: 0.485000\n",
      "Epoch 26, CIFAR-10 Batch 2:  Loss:     1.3897 Validation Accuracy: 0.487200\n",
      "Epoch 26, CIFAR-10 Batch 3:  Loss:     1.3542 Validation Accuracy: 0.489400\n",
      "Epoch 26, CIFAR-10 Batch 4:  Loss:     1.3594 Validation Accuracy: 0.487000\n",
      "Epoch 26, CIFAR-10 Batch 5:  Loss:     1.3818 Validation Accuracy: 0.482400\n",
      "Epoch 27, CIFAR-10 Batch 1:  Loss:     1.3705 Validation Accuracy: 0.486800\n",
      "Epoch 27, CIFAR-10 Batch 2:  Loss:     1.3737 Validation Accuracy: 0.488600\n",
      "Epoch 27, CIFAR-10 Batch 3:  Loss:     1.3358 Validation Accuracy: 0.490000\n",
      "Epoch 27, CIFAR-10 Batch 4:  Loss:     1.3432 Validation Accuracy: 0.488600\n",
      "Epoch 27, CIFAR-10 Batch 5:  Loss:     1.3676 Validation Accuracy: 0.487000\n",
      "Epoch 28, CIFAR-10 Batch 1:  Loss:     1.3541 Validation Accuracy: 0.492800\n",
      "Epoch 28, CIFAR-10 Batch 2:  Loss:     1.3655 Validation Accuracy: 0.492000\n",
      "Epoch 28, CIFAR-10 Batch 3:  Loss:     1.3232 Validation Accuracy: 0.490600\n",
      "Epoch 28, CIFAR-10 Batch 4:  Loss:     1.3283 Validation Accuracy: 0.495800\n",
      "Epoch 28, CIFAR-10 Batch 5:  Loss:     1.3493 Validation Accuracy: 0.492600\n",
      "Epoch 29, CIFAR-10 Batch 1:  Loss:     1.3393 Validation Accuracy: 0.495200\n",
      "Epoch 29, CIFAR-10 Batch 2:  Loss:     1.3462 Validation Accuracy: 0.497600\n",
      "Epoch 29, CIFAR-10 Batch 3:  Loss:     1.3088 Validation Accuracy: 0.499600\n",
      "Epoch 29, CIFAR-10 Batch 4:  Loss:     1.3116 Validation Accuracy: 0.500200\n",
      "Epoch 29, CIFAR-10 Batch 5:  Loss:     1.3321 Validation Accuracy: 0.496600\n",
      "Epoch 30, CIFAR-10 Batch 1:  Loss:     1.3217 Validation Accuracy: 0.499400\n",
      "Epoch 30, CIFAR-10 Batch 2:  Loss:     1.3325 Validation Accuracy: 0.503400\n",
      "Epoch 30, CIFAR-10 Batch 3:  Loss:     1.2913 Validation Accuracy: 0.502600\n",
      "Epoch 30, CIFAR-10 Batch 4:  Loss:     1.2987 Validation Accuracy: 0.503000\n",
      "Epoch 30, CIFAR-10 Batch 5:  Loss:     1.3215 Validation Accuracy: 0.501000\n",
      "Epoch 31, CIFAR-10 Batch 1:  Loss:     1.3086 Validation Accuracy: 0.503400\n",
      "Epoch 31, CIFAR-10 Batch 2:  Loss:     1.3174 Validation Accuracy: 0.506600\n",
      "Epoch 31, CIFAR-10 Batch 3:  Loss:     1.2767 Validation Accuracy: 0.508400\n",
      "Epoch 31, CIFAR-10 Batch 4:  Loss:     1.2854 Validation Accuracy: 0.506000\n",
      "Epoch 31, CIFAR-10 Batch 5:  Loss:     1.3079 Validation Accuracy: 0.505200\n",
      "Epoch 32, CIFAR-10 Batch 1:  Loss:     1.2944 Validation Accuracy: 0.506400\n",
      "Epoch 32, CIFAR-10 Batch 2:  Loss:     1.3050 Validation Accuracy: 0.507000\n",
      "Epoch 32, CIFAR-10 Batch 3:  Loss:     1.2612 Validation Accuracy: 0.510600\n",
      "Epoch 32, CIFAR-10 Batch 4:  Loss:     1.2704 Validation Accuracy: 0.508400\n",
      "Epoch 32, CIFAR-10 Batch 5:  Loss:     1.2882 Validation Accuracy: 0.510200\n",
      "Epoch 33, CIFAR-10 Batch 1:  Loss:     1.2778 Validation Accuracy: 0.510200\n",
      "Epoch 33, CIFAR-10 Batch 2:  Loss:     1.2855 Validation Accuracy: 0.513000\n",
      "Epoch 33, CIFAR-10 Batch 3:  Loss:     1.2468 Validation Accuracy: 0.516600\n",
      "Epoch 33, CIFAR-10 Batch 4:  Loss:     1.2565 Validation Accuracy: 0.513400\n",
      "Epoch 33, CIFAR-10 Batch 5:  Loss:     1.2730 Validation Accuracy: 0.517000\n",
      "Epoch 34, CIFAR-10 Batch 1:  Loss:     1.2614 Validation Accuracy: 0.515000\n",
      "Epoch 34, CIFAR-10 Batch 2:  Loss:     1.2742 Validation Accuracy: 0.518000\n",
      "Epoch 34, CIFAR-10 Batch 3:  Loss:     1.2334 Validation Accuracy: 0.519200\n",
      "Epoch 34, CIFAR-10 Batch 4:  Loss:     1.2445 Validation Accuracy: 0.514800\n",
      "Epoch 34, CIFAR-10 Batch 5:  Loss:     1.2617 Validation Accuracy: 0.514400\n",
      "Epoch 35, CIFAR-10 Batch 1:  Loss:     1.2496 Validation Accuracy: 0.518200\n",
      "Epoch 35, CIFAR-10 Batch 2:  Loss:     1.2594 Validation Accuracy: 0.520200\n",
      "Epoch 35, CIFAR-10 Batch 3:  Loss:     1.2178 Validation Accuracy: 0.524400\n",
      "Epoch 35, CIFAR-10 Batch 4:  Loss:     1.2321 Validation Accuracy: 0.519200\n",
      "Epoch 35, CIFAR-10 Batch 5:  Loss:     1.2456 Validation Accuracy: 0.519400\n",
      "Epoch 36, CIFAR-10 Batch 1:  Loss:     1.2365 Validation Accuracy: 0.522600\n",
      "Epoch 36, CIFAR-10 Batch 2:  Loss:     1.2428 Validation Accuracy: 0.527000\n",
      "Epoch 36, CIFAR-10 Batch 3:  Loss:     1.1992 Validation Accuracy: 0.525200\n",
      "Epoch 36, CIFAR-10 Batch 4:  Loss:     1.2173 Validation Accuracy: 0.522600\n",
      "Epoch 36, CIFAR-10 Batch 5:  Loss:     1.2293 Validation Accuracy: 0.521800\n",
      "Epoch 37, CIFAR-10 Batch 1:  Loss:     1.2259 Validation Accuracy: 0.528000\n",
      "Epoch 37, CIFAR-10 Batch 2:  Loss:     1.2268 Validation Accuracy: 0.528200\n",
      "Epoch 37, CIFAR-10 Batch 3:  Loss:     1.1888 Validation Accuracy: 0.528200\n",
      "Epoch 37, CIFAR-10 Batch 4:  Loss:     1.2026 Validation Accuracy: 0.529000\n",
      "Epoch 37, CIFAR-10 Batch 5:  Loss:     1.2175 Validation Accuracy: 0.526600\n",
      "Epoch 38, CIFAR-10 Batch 1:  Loss:     1.2081 Validation Accuracy: 0.529200\n",
      "Epoch 38, CIFAR-10 Batch 2:  Loss:     1.2172 Validation Accuracy: 0.528200\n",
      "Epoch 38, CIFAR-10 Batch 3:  Loss:     1.1784 Validation Accuracy: 0.534400\n",
      "Epoch 38, CIFAR-10 Batch 4:  Loss:     1.1850 Validation Accuracy: 0.528400\n",
      "Epoch 38, CIFAR-10 Batch 5:  Loss:     1.2004 Validation Accuracy: 0.532000\n",
      "Epoch 39, CIFAR-10 Batch 1:  Loss:     1.1965 Validation Accuracy: 0.533200\n",
      "Epoch 39, CIFAR-10 Batch 2:  Loss:     1.2004 Validation Accuracy: 0.532400\n",
      "Epoch 39, CIFAR-10 Batch 3:  Loss:     1.1680 Validation Accuracy: 0.536400\n",
      "Epoch 39, CIFAR-10 Batch 4:  Loss:     1.1708 Validation Accuracy: 0.530600\n",
      "Epoch 39, CIFAR-10 Batch 5:  Loss:     1.1880 Validation Accuracy: 0.533800\n",
      "Epoch 40, CIFAR-10 Batch 1:  Loss:     1.1797 Validation Accuracy: 0.539400\n",
      "Epoch 40, CIFAR-10 Batch 2:  Loss:     1.1880 Validation Accuracy: 0.538600\n",
      "Epoch 40, CIFAR-10 Batch 3:  Loss:     1.1534 Validation Accuracy: 0.540400\n",
      "Epoch 40, CIFAR-10 Batch 4:  Loss:     1.1561 Validation Accuracy: 0.537400\n",
      "Epoch 40, CIFAR-10 Batch 5:  Loss:     1.1724 Validation Accuracy: 0.540200\n",
      "Epoch 41, CIFAR-10 Batch 1:  Loss:     1.1687 Validation Accuracy: 0.546200\n",
      "Epoch 41, CIFAR-10 Batch 2:  Loss:     1.1717 Validation Accuracy: 0.542800\n",
      "Epoch 41, CIFAR-10 Batch 3:  Loss:     1.1391 Validation Accuracy: 0.544200\n",
      "Epoch 41, CIFAR-10 Batch 4:  Loss:     1.1411 Validation Accuracy: 0.538600\n",
      "Epoch 41, CIFAR-10 Batch 5:  Loss:     1.1576 Validation Accuracy: 0.542200\n",
      "Epoch 42, CIFAR-10 Batch 1:  Loss:     1.1561 Validation Accuracy: 0.546600\n",
      "Epoch 42, CIFAR-10 Batch 2:  Loss:     1.1620 Validation Accuracy: 0.542400\n",
      "Epoch 42, CIFAR-10 Batch 3:  Loss:     1.1295 Validation Accuracy: 0.545800\n",
      "Epoch 42, CIFAR-10 Batch 4:  Loss:     1.1319 Validation Accuracy: 0.545400\n",
      "Epoch 42, CIFAR-10 Batch 5:  Loss:     1.1470 Validation Accuracy: 0.544000\n",
      "Epoch 43, CIFAR-10 Batch 1:  Loss:     1.1420 Validation Accuracy: 0.550600\n",
      "Epoch 43, CIFAR-10 Batch 2:  Loss:     1.1519 Validation Accuracy: 0.547800\n",
      "Epoch 43, CIFAR-10 Batch 3:  Loss:     1.1185 Validation Accuracy: 0.551400\n",
      "Epoch 43, CIFAR-10 Batch 4:  Loss:     1.1201 Validation Accuracy: 0.548400\n",
      "Epoch 43, CIFAR-10 Batch 5:  Loss:     1.1378 Validation Accuracy: 0.549200\n",
      "Epoch 44, CIFAR-10 Batch 1:  Loss:     1.1294 Validation Accuracy: 0.556800\n",
      "Epoch 44, CIFAR-10 Batch 2:  Loss:     1.1369 Validation Accuracy: 0.548400\n",
      "Epoch 44, CIFAR-10 Batch 3:  Loss:     1.1026 Validation Accuracy: 0.557400\n",
      "Epoch 44, CIFAR-10 Batch 4:  Loss:     1.1050 Validation Accuracy: 0.549400\n",
      "Epoch 44, CIFAR-10 Batch 5:  Loss:     1.1218 Validation Accuracy: 0.552000\n",
      "Epoch 45, CIFAR-10 Batch 1:  Loss:     1.1193 Validation Accuracy: 0.556800\n",
      "Epoch 45, CIFAR-10 Batch 2:  Loss:     1.1219 Validation Accuracy: 0.551800\n",
      "Epoch 45, CIFAR-10 Batch 3:  Loss:     1.0943 Validation Accuracy: 0.560400\n",
      "Epoch 45, CIFAR-10 Batch 4:  Loss:     1.0895 Validation Accuracy: 0.554400\n",
      "Epoch 45, CIFAR-10 Batch 5:  Loss:     1.1060 Validation Accuracy: 0.554400\n",
      "Epoch 46, CIFAR-10 Batch 1:  Loss:     1.1100 Validation Accuracy: 0.558600\n",
      "Epoch 46, CIFAR-10 Batch 2:  Loss:     1.1099 Validation Accuracy: 0.562000\n",
      "Epoch 46, CIFAR-10 Batch 3:  Loss:     1.0766 Validation Accuracy: 0.562400\n",
      "Epoch 46, CIFAR-10 Batch 4:  Loss:     1.0812 Validation Accuracy: 0.555800\n",
      "Epoch 46, CIFAR-10 Batch 5:  Loss:     1.0909 Validation Accuracy: 0.561000\n",
      "Epoch 47, CIFAR-10 Batch 1:  Loss:     1.1003 Validation Accuracy: 0.561800\n",
      "Epoch 47, CIFAR-10 Batch 2:  Loss:     1.0959 Validation Accuracy: 0.561200\n",
      "Epoch 47, CIFAR-10 Batch 3:  Loss:     1.0637 Validation Accuracy: 0.564800\n",
      "Epoch 47, CIFAR-10 Batch 4:  Loss:     1.0642 Validation Accuracy: 0.563400\n",
      "Epoch 47, CIFAR-10 Batch 5:  Loss:     1.0770 Validation Accuracy: 0.562600\n",
      "Epoch 48, CIFAR-10 Batch 1:  Loss:     1.0849 Validation Accuracy: 0.565600\n",
      "Epoch 48, CIFAR-10 Batch 2:  Loss:     1.0804 Validation Accuracy: 0.566000\n",
      "Epoch 48, CIFAR-10 Batch 3:  Loss:     1.0535 Validation Accuracy: 0.567200\n",
      "Epoch 48, CIFAR-10 Batch 4:  Loss:     1.0581 Validation Accuracy: 0.560000\n",
      "Epoch 48, CIFAR-10 Batch 5:  Loss:     1.0637 Validation Accuracy: 0.563400\n",
      "Epoch 49, CIFAR-10 Batch 1:  Loss:     1.0752 Validation Accuracy: 0.571800\n",
      "Epoch 49, CIFAR-10 Batch 2:  Loss:     1.0689 Validation Accuracy: 0.566400\n",
      "Epoch 49, CIFAR-10 Batch 3:  Loss:     1.0412 Validation Accuracy: 0.569400\n",
      "Epoch 49, CIFAR-10 Batch 4:  Loss:     1.0452 Validation Accuracy: 0.566400\n",
      "Epoch 49, CIFAR-10 Batch 5:  Loss:     1.0519 Validation Accuracy: 0.568600\n",
      "Epoch 50, CIFAR-10 Batch 1:  Loss:     1.0624 Validation Accuracy: 0.575400\n",
      "Epoch 50, CIFAR-10 Batch 2:  Loss:     1.0565 Validation Accuracy: 0.565800\n",
      "Epoch 50, CIFAR-10 Batch 3:  Loss:     1.0272 Validation Accuracy: 0.567600\n",
      "Epoch 50, CIFAR-10 Batch 4:  Loss:     1.0353 Validation Accuracy: 0.563600\n",
      "Epoch 50, CIFAR-10 Batch 5:  Loss:     1.0435 Validation Accuracy: 0.569800\n"
     ]
    }
   ],
   "source": [
    "\"\"\"\n",
    "DON'T MODIFY ANYTHING IN THIS CELL\n",
    "\"\"\"\n",
    "save_model_path = './image_classification'\n",
    "\n",
    "print('Training...')\n",
    "with tf.Session() as sess:\n",
    "    # Initializing the variables\n",
    "    sess.run(tf.global_variables_initializer())\n",
    "    \n",
    "    # Training cycle\n",
    "    for epoch in range(epochs):\n",
    "        # Loop over all batches\n",
    "        n_batches = 5\n",
    "        for batch_i in range(1, n_batches + 1):\n",
    "            for batch_features, batch_labels in helper.load_preprocess_training_batch(batch_i, batch_size):\n",
    "                train_neural_network(sess, optimizer, keep_probability, batch_features, batch_labels)\n",
    "            print('Epoch {:>2}, CIFAR-10 Batch {}:  '.format(epoch + 1, batch_i), end='')\n",
    "            print_stats(sess, batch_features, batch_labels, cost, accuracy)\n",
    "            \n",
    "    # Save Model\n",
    "    saver = tf.train.Saver()\n",
    "    save_path = saver.save(sess, save_model_path)"
   ]
  },
  {
   "cell_type": "markdown",
   "metadata": {
    "deletable": true,
    "editable": true
   },
   "source": [
    "# Checkpoint\n",
    "The model has been saved to disk.\n",
    "## Test Model\n",
    "Test your model against the test dataset.  This will be your final accuracy. You should have an accuracy greater than 50%. If you don't, keep tweaking the model architecture and parameters."
   ]
  },
  {
   "cell_type": "code",
   "execution_count": 30,
   "metadata": {
    "collapsed": false,
    "deletable": true,
    "editable": true
   },
   "outputs": [
    {
     "name": "stdout",
     "output_type": "stream",
     "text": [
      "Testing Accuracy: 0.5696999907493592\n",
      "\n"
     ]
    },
    {
     "data": {
      "image/png": "[encoded data removed]",
      "text/plain": [
       "<matplotlib.figure.Figure at 0x7f23088abef0>"
      ]
     },
     "metadata": {
      "image/png": {
       "height": 319,
       "width": 355
      }
     },
     "output_type": "display_data"
    }
   ],
   "source": [
    "\"\"\"\n",
    "DON'T MODIFY ANYTHING IN THIS CELL\n",
    "\"\"\"\n",
    "%matplotlib inline\n",
    "%config InlineBackend.figure_format = 'retina'\n",
    "\n",
    "import tensorflow as tf\n",
    "import pickle\n",
    "import helper\n",
    "import random\n",
    "\n",
    "# Set batch size if not already set\n",
    "try:\n",
    "    if batch_size:\n",
    "        pass\n",
    "except NameError:\n",
    "    batch_size = 64\n",
    "\n",
    "save_model_path = './image_classification'\n",
    "n_samples = 4\n",
    "top_n_predictions = 3\n",
    "\n",
    "def test_model():\n",
    "    \"\"\"\n",
    "    Test the saved model against the test dataset\n",
    "    \"\"\"\n",
    "\n",
    "    test_features, test_labels = pickle.load(open('preprocess_training.p', mode='rb'))\n",
    "    loaded_graph = tf.Graph()\n",
    "\n",
    "    with tf.Session(graph=loaded_graph) as sess:\n",
    "        # Load model\n",
    "        loader = tf.train.import_meta_graph(save_model_path + '.meta')\n",
    "        loader.restore(sess, save_model_path)\n",
    "\n",
    "        # Get Tensors from loaded model\n",
    "        loaded_x = loaded_graph.get_tensor_by_name('x:0')\n",
    "        loaded_y = loaded_graph.get_tensor_by_name('y:0')\n",
    "        loaded_keep_prob = loaded_graph.get_tensor_by_name('keep_prob:0')\n",
    "        loaded_logits = loaded_graph.get_tensor_by_name('logits:0')\n",
    "        loaded_acc = loaded_graph.get_tensor_by_name('accuracy:0')\n",
    "        \n",
    "        # Get accuracy in batches for memory limitations\n",
    "        test_batch_acc_total = 0\n",
    "        test_batch_count = 0\n",
    "        \n",
    "        for train_feature_batch, train_label_batch in helper.batch_features_labels(test_features, test_labels, batch_size):\n",
    "            test_batch_acc_total += sess.run(\n",
    "                loaded_acc,\n",
    "                feed_dict={loaded_x: train_feature_batch, loaded_y: train_label_batch, loaded_keep_prob: 1.0})\n",
    "            test_batch_count += 1\n",
    "\n",
    "        print('Testing Accuracy: {}\\n'.format(test_batch_acc_total/test_batch_count))\n",
    "\n",
    "        # Print Random Samples\n",
    "        random_test_features, random_test_labels = tuple(zip(*random.sample(list(zip(test_features, test_labels)), n_samples)))\n",
    "        random_test_predictions = sess.run(\n",
    "            tf.nn.top_k(tf.nn.softmax(loaded_logits), top_n_predictions),\n",
    "            feed_dict={loaded_x: random_test_features, loaded_y: random_test_labels, loaded_keep_prob: 1.0})\n",
    "        helper.display_image_predictions(random_test_features, random_test_labels, random_test_predictions)\n",
    "\n",
    "\n",
    "test_model()"
   ]
  },
  {
   "cell_type": "markdown",
   "metadata": {
    "deletable": true,
    "editable": true
   },
   "source": [
    "## Why 50-80% Accuracy?\n",
    "You might be wondering why you can't get an accuracy any higher. First things first, 50% isn't bad for a simple CNN.  Pure guessing would get you 10% accuracy. However, you might notice people are getting scores [well above 80%](http://rodrigob.github.io/are_we_there_yet/build/classification_datasets_results.html#43494641522d3130).  That's because we haven't taught you all there is to know about neural networks. We still need to cover a few more techniques.\n",
    "## Submitting This Project\n",
    "When submitting this project, make sure to run all the cells before saving the notebook.  Save the notebook file as \"dlnd_image_classification.ipynb\" and save it as a HTML file under \"File\" -> \"Download as\".  Include the \"helper.py\" and \"problem_unittests.py\" files in your submission."
   ]
  }
 ],
 "metadata": {
  "kernelspec": {
   "display_name": "Python 3",
   "language": "python",
   "name": "python3"
  },
  "language_info": {
   "codemirror_mode": {
    "name": "ipython",
    "version": 3
   },
   "file_extension": ".py",
   "mimetype": "text/x-python",
   "name": "python",
   "nbconvert_exporter": "python",
   "pygments_lexer": "ipython3",
   "version": "3.5.2"
  },
  "widgets": {
   "state": {},
   "version": "1.1.2"
  }
 },
 "nbformat": 4,
 "nbformat_minor": 0
}
